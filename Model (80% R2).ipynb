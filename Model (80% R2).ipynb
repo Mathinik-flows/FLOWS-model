{
 "cells": [
  {
   "cell_type": "markdown",
   "id": "bfebb9ca-1b51-41ab-a805-c9983fd9d8f3",
   "metadata": {},
   "source": [
    "<h1>MODEL CLEANER VERSION</h1>"
   ]
  },
  {
   "cell_type": "code",
   "execution_count": 3,
   "id": "7c65c9ef-6604-44b9-a8b8-829280299da8",
   "metadata": {},
   "outputs": [],
   "source": [
    "import numpy as np\n",
    "import pandas as pd\n",
    "from sklearn.preprocessing import MinMaxScaler\n",
    "from sklearn.model_selection import train_test_split\n",
    "from tensorflow.keras.models import Sequential\n",
    "from tensorflow.keras.layers import Dense\n",
    "from tensorflow.keras.callbacks import EarlyStopping\n",
    "import matplotlib.pyplot as plt\n",
    "from sklearn.metrics import mean_absolute_error, r2_score"
   ]
  },
  {
   "cell_type": "code",
   "execution_count": 2,
   "id": "20246af4-5e1b-45fa-b45b-219680de0627",
   "metadata": {},
   "outputs": [],
   "source": [
    "finaldata = pd.read_csv(\"finaldata2.csv\")"
   ]
  },
  {
   "cell_type": "code",
   "execution_count": 4,
   "id": "ef880546-81b0-4fd5-bbf4-5d56ffbeb185",
   "metadata": {},
   "outputs": [],
   "source": [
    "rainfall = finaldata['Rainfall'].values\n",
    "waterlevel = finaldata['WaterLevel'].values\n",
    "fwaterlevel = finaldata['FWaterLevel'].values"
   ]
  },
  {
   "cell_type": "code",
   "execution_count": 5,
   "id": "a5824c53-2478-478c-a808-fb5f2f29497a",
   "metadata": {},
   "outputs": [],
   "source": [
    "scaler_rainfall = MinMaxScaler()\n",
    "scaler_waterlevel = MinMaxScaler()\n",
    "scaler_fwaterlevel = MinMaxScaler()\n",
    "rainfall_scaled = scaler_rainfall.fit_transform(rainfall.reshape(-1, 1))\n",
    "waterlevel_scaled = scaler_waterlevel.fit_transform(waterlevel.reshape(-1, 1))\n",
    "fwaterlevel_scaled = scaler_fwaterlevel.fit_transform(fwaterlevel.reshape(-1, 1))"
   ]
  },
  {
   "cell_type": "code",
   "execution_count": 76,
   "id": "e06b0e30-de8b-41fc-9fc2-857421f130c2",
   "metadata": {},
   "outputs": [],
   "source": [
    "def create_narx_dataset(waterlevel, rainfall, fwaterlevel, n_y, n_u):\n",
    "    X, y = [], []\n",
    "    for i in range(len(waterlevel) - max(n_y, n_u)):\n",
    "        y_input = waterlevel[i:i+n_y].flatten()\n",
    "        u_input = rainfall[i:i+n_u].flatten()\n",
    "        X.append(np.concatenate((y_input, u_input)))\n",
    "        y.append(fwaterlevel[i+n_y])\n",
    "    return np.array(X), np.array(y)\n",
    "\n",
    "n_y = 24\n",
    "n_u = 24\n",
    "X, y = create_narx_dataset(waterlevel_scaled, rainfall_scaled, fwaterlevel_scaled, n_y, n_u)"
   ]
  },
  {
   "cell_type": "code",
   "execution_count": 77,
   "id": "30ed25f6-09eb-4ece-979d-6195881c535f",
   "metadata": {},
   "outputs": [],
   "source": [
    "X_train, X_test, y_train, y_test = train_test_split(X, y, test_size=0.2, shuffle=False)"
   ]
  },
  {
   "cell_type": "code",
   "execution_count": 78,
   "id": "410b3f89-fbe3-441b-b330-7fbfb2f1cad2",
   "metadata": {},
   "outputs": [],
   "source": [
    "model = Sequential()\n",
    "model.add(Dense(64, input_dim=n_y + n_u, activation='tanh'))\n",
    "model.add(Dense(64, activation='tanh'))\n",
    "model.add(Dense(32, activation='tanh'))\n",
    "model.add(Dense(1, activation='linear'))"
   ]
  },
  {
   "cell_type": "code",
   "execution_count": 79,
   "id": "7e4721a6-a1fe-4d9f-9c09-cd5e507cc309",
   "metadata": {},
   "outputs": [],
   "source": [
    "from tensorflow.keras.optimizers import Adam\n",
    "\n",
    "model.compile(optimizer=Adam(learning_rate=0.0001), loss='mse', metrics=['mae'])"
   ]
  },
  {
   "cell_type": "code",
   "execution_count": null,
   "id": "1c2d33db-ba62-4404-b979-16942e0655d6",
   "metadata": {},
   "outputs": [],
   "source": [
    "early_stopping = EarlyStopping(\n",
    "    monitor='val_loss',\n",
    "    patience=10,\n",
    "    restore_best_weights=True\n",
    ")"
   ]
  },
  {
   "cell_type": "code",
   "execution_count": 80,
   "id": "ceb29817-4a03-488b-a0e5-a1f8a0ccac21",
   "metadata": {},
   "outputs": [
    {
     "name": "stdout",
     "output_type": "stream",
     "text": [
      "Epoch 1/100\n",
      "12239/12239 [==============================] - 31s 2ms/step - loss: 3.0343e-05 - mae: 0.0019 - val_loss: 1.4997e-06 - val_mae: 9.0761e-04\n",
      "Epoch 2/100\n",
      "12239/12239 [==============================] - 32s 3ms/step - loss: 2.6534e-05 - mae: 0.0017 - val_loss: 2.6202e-06 - val_mae: 0.0013\n",
      "Epoch 3/100\n",
      "12239/12239 [==============================] - 31s 3ms/step - loss: 2.4951e-05 - mae: 0.0016 - val_loss: 1.6593e-06 - val_mae: 0.0010\n",
      "Epoch 4/100\n",
      "12239/12239 [==============================] - 31s 3ms/step - loss: 2.3756e-05 - mae: 0.0015 - val_loss: 1.7757e-06 - val_mae: 0.0011\n",
      "Epoch 5/100\n",
      "12239/12239 [==============================] - 31s 3ms/step - loss: 2.2812e-05 - mae: 0.0014 - val_loss: 4.1943e-06 - val_mae: 0.0017\n",
      "Epoch 6/100\n",
      "12239/12239 [==============================] - 31s 3ms/step - loss: 2.2109e-05 - mae: 0.0014 - val_loss: 1.4418e-06 - val_mae: 9.3173e-04\n",
      "Epoch 7/100\n",
      "12239/12239 [==============================] - 31s 3ms/step - loss: 2.1624e-05 - mae: 0.0013 - val_loss: 1.4786e-06 - val_mae: 8.2804e-04\n",
      "Epoch 8/100\n",
      "12239/12239 [==============================] - 32s 3ms/step - loss: 2.1245e-05 - mae: 0.0013 - val_loss: 9.1875e-07 - val_mae: 7.2191e-04\n",
      "Epoch 9/100\n",
      "12239/12239 [==============================] - 31s 3ms/step - loss: 2.0633e-05 - mae: 0.0012 - val_loss: 9.2471e-07 - val_mae: 6.9472e-04\n",
      "Epoch 10/100\n",
      "12239/12239 [==============================] - 31s 3ms/step - loss: 2.0770e-05 - mae: 0.0012 - val_loss: 1.4942e-06 - val_mae: 9.1881e-04\n",
      "Epoch 11/100\n",
      "12239/12239 [==============================] - 31s 3ms/step - loss: 2.0672e-05 - mae: 0.0012 - val_loss: 9.7520e-07 - val_mae: 6.4408e-04\n",
      "Epoch 12/100\n",
      "12239/12239 [==============================] - 31s 3ms/step - loss: 2.0627e-05 - mae: 0.0012 - val_loss: 9.1545e-07 - val_mae: 6.5485e-04\n",
      "Epoch 13/100\n",
      "12239/12239 [==============================] - 33s 3ms/step - loss: 2.0575e-05 - mae: 0.0012 - val_loss: 8.6988e-07 - val_mae: 5.9731e-04\n",
      "Epoch 14/100\n",
      "12239/12239 [==============================] - 31s 3ms/step - loss: 2.0560e-05 - mae: 0.0012 - val_loss: 1.1087e-06 - val_mae: 8.0010e-04\n",
      "Epoch 15/100\n",
      "12239/12239 [==============================] - 31s 3ms/step - loss: 2.0592e-05 - mae: 0.0012 - val_loss: 9.7744e-07 - val_mae: 7.6860e-04\n",
      "Epoch 16/100\n",
      "12239/12239 [==============================] - 31s 3ms/step - loss: 2.0414e-05 - mae: 0.0012 - val_loss: 9.8082e-07 - val_mae: 6.7154e-04\n",
      "Epoch 17/100\n",
      "12239/12239 [==============================] - 33s 3ms/step - loss: 2.0378e-05 - mae: 0.0012 - val_loss: 7.6503e-07 - val_mae: 5.7058e-04\n",
      "Epoch 18/100\n",
      "12239/12239 [==============================] - 28s 2ms/step - loss: 2.0336e-05 - mae: 0.0012 - val_loss: 8.8855e-07 - val_mae: 6.4597e-04\n",
      "Epoch 19/100\n",
      "12239/12239 [==============================] - 28s 2ms/step - loss: 2.0529e-05 - mae: 0.0011 - val_loss: 8.6706e-07 - val_mae: 6.5610e-04\n",
      "Epoch 20/100\n",
      "12239/12239 [==============================] - 28s 2ms/step - loss: 2.0215e-05 - mae: 0.0012 - val_loss: 2.1300e-06 - val_mae: 0.0012\n",
      "Epoch 21/100\n",
      "12239/12239 [==============================] - 28s 2ms/step - loss: 2.0424e-05 - mae: 0.0012 - val_loss: 7.4313e-07 - val_mae: 5.5289e-04\n",
      "Epoch 22/100\n",
      "12239/12239 [==============================] - 31s 3ms/step - loss: 2.0363e-05 - mae: 0.0012 - val_loss: 9.8516e-07 - val_mae: 7.5104e-04\n",
      "Epoch 23/100\n",
      "12239/12239 [==============================] - 28s 2ms/step - loss: 2.0249e-05 - mae: 0.0011 - val_loss: 1.6289e-06 - val_mae: 0.0011\n",
      "Epoch 24/100\n",
      "12239/12239 [==============================] - 27s 2ms/step - loss: 2.0148e-05 - mae: 0.0011 - val_loss: 8.0563e-07 - val_mae: 5.9104e-04\n",
      "Epoch 25/100\n",
      "12239/12239 [==============================] - 27s 2ms/step - loss: 2.0376e-05 - mae: 0.0011 - val_loss: 1.0828e-06 - val_mae: 8.0186e-04\n",
      "Epoch 26/100\n",
      "12239/12239 [==============================] - 28s 2ms/step - loss: 2.0421e-05 - mae: 0.0012 - val_loss: 7.9548e-07 - val_mae: 6.0886e-04\n",
      "Epoch 27/100\n",
      "12239/12239 [==============================] - 30s 2ms/step - loss: 2.0133e-05 - mae: 0.0011 - val_loss: 9.4448e-07 - val_mae: 7.1622e-04\n",
      "Epoch 28/100\n",
      "12239/12239 [==============================] - 27s 2ms/step - loss: 2.0170e-05 - mae: 0.0011 - val_loss: 8.2782e-07 - val_mae: 6.4212e-04\n",
      "Epoch 29/100\n",
      "12239/12239 [==============================] - 27s 2ms/step - loss: 2.0309e-05 - mae: 0.0011 - val_loss: 8.4699e-07 - val_mae: 6.7764e-04\n",
      "Epoch 30/100\n",
      "12239/12239 [==============================] - 28s 2ms/step - loss: 2.0280e-05 - mae: 0.0011 - val_loss: 1.3379e-06 - val_mae: 9.2447e-04\n",
      "Epoch 31/100\n",
      "12239/12239 [==============================] - 28s 2ms/step - loss: 2.0045e-05 - mae: 0.0011 - val_loss: 8.4973e-07 - val_mae: 6.7254e-04\n",
      "Epoch 32/100\n",
      "12239/12239 [==============================] - 28s 2ms/step - loss: 2.0178e-05 - mae: 0.0011 - val_loss: 7.8425e-07 - val_mae: 5.9567e-04\n",
      "Epoch 33/100\n",
      "12239/12239 [==============================] - 27s 2ms/step - loss: 2.0117e-05 - mae: 0.0011 - val_loss: 7.7624e-07 - val_mae: 5.7345e-04\n",
      "Epoch 34/100\n",
      "12239/12239 [==============================] - 28s 2ms/step - loss: 1.9984e-05 - mae: 0.0011 - val_loss: 7.7257e-07 - val_mae: 5.8460e-04\n",
      "Epoch 35/100\n",
      "12239/12239 [==============================] - 27s 2ms/step - loss: 2.0126e-05 - mae: 0.0011 - val_loss: 8.0210e-07 - val_mae: 6.0424e-04\n",
      "Epoch 36/100\n",
      "12239/12239 [==============================] - 27s 2ms/step - loss: 1.9997e-05 - mae: 0.0011 - val_loss: 7.9714e-07 - val_mae: 6.3305e-04\n",
      "Epoch 37/100\n",
      "12239/12239 [==============================] - 28s 2ms/step - loss: 2.0075e-05 - mae: 0.0012 - val_loss: 8.8641e-07 - val_mae: 6.1746e-04\n",
      "Epoch 38/100\n",
      "12239/12239 [==============================] - 27s 2ms/step - loss: 2.0066e-05 - mae: 0.0011 - val_loss: 8.8938e-07 - val_mae: 6.4804e-04\n",
      "Epoch 39/100\n",
      "12239/12239 [==============================] - 28s 2ms/step - loss: 1.9987e-05 - mae: 0.0011 - val_loss: 8.9421e-07 - val_mae: 6.4206e-04\n",
      "Epoch 40/100\n",
      "12239/12239 [==============================] - 28s 2ms/step - loss: 2.0059e-05 - mae: 0.0011 - val_loss: 1.7529e-06 - val_mae: 0.0011\n",
      "Epoch 41/100\n",
      "12239/12239 [==============================] - 28s 2ms/step - loss: 1.9965e-05 - mae: 0.0011 - val_loss: 6.7151e-05 - val_mae: 0.0081\n",
      "Epoch 42/100\n",
      "12239/12239 [==============================] - 28s 2ms/step - loss: 2.0035e-05 - mae: 0.0011 - val_loss: 7.5986e-07 - val_mae: 5.9575e-04\n",
      "Epoch 43/100\n",
      "12239/12239 [==============================] - 29s 2ms/step - loss: 2.0008e-05 - mae: 0.0011 - val_loss: 7.7537e-07 - val_mae: 5.9300e-04\n",
      "Epoch 44/100\n",
      "12239/12239 [==============================] - 28s 2ms/step - loss: 1.9914e-05 - mae: 0.0011 - val_loss: 9.6623e-07 - val_mae: 7.3751e-04\n",
      "Epoch 45/100\n",
      "12239/12239 [==============================] - 28s 2ms/step - loss: 1.9901e-05 - mae: 0.0011 - val_loss: 8.5485e-07 - val_mae: 6.7457e-04\n",
      "Epoch 46/100\n",
      "12239/12239 [==============================] - 27s 2ms/step - loss: 2.0019e-05 - mae: 0.0011 - val_loss: 7.8820e-07 - val_mae: 6.2130e-04\n",
      "Epoch 47/100\n",
      "12239/12239 [==============================] - 28s 2ms/step - loss: 1.9901e-05 - mae: 0.0011 - val_loss: 9.3790e-07 - val_mae: 6.8543e-04\n",
      "Epoch 48/100\n",
      "12239/12239 [==============================] - 28s 2ms/step - loss: 1.9915e-05 - mae: 0.0011 - val_loss: 7.9153e-07 - val_mae: 6.3759e-04\n",
      "Epoch 49/100\n",
      "12239/12239 [==============================] - 28s 2ms/step - loss: 1.9872e-05 - mae: 0.0011 - val_loss: 8.9137e-07 - val_mae: 6.3978e-04\n",
      "Epoch 50/100\n",
      "12239/12239 [==============================] - 28s 2ms/step - loss: 1.9918e-05 - mae: 0.0011 - val_loss: 7.6786e-07 - val_mae: 6.1373e-04\n",
      "Epoch 51/100\n",
      "12239/12239 [==============================] - 28s 2ms/step - loss: 1.9863e-05 - mae: 0.0011 - val_loss: 7.0944e-07 - val_mae: 5.5120e-04\n",
      "Epoch 52/100\n",
      "12239/12239 [==============================] - 28s 2ms/step - loss: 1.9838e-05 - mae: 0.0011 - val_loss: 1.4859e-06 - val_mae: 9.9224e-04\n",
      "Epoch 53/100\n",
      "12239/12239 [==============================] - 28s 2ms/step - loss: 2.0000e-05 - mae: 0.0011 - val_loss: 7.5499e-07 - val_mae: 5.7642e-04\n",
      "Epoch 54/100\n",
      "12239/12239 [==============================] - 28s 2ms/step - loss: 1.9826e-05 - mae: 0.0011 - val_loss: 8.1333e-07 - val_mae: 6.1385e-04\n",
      "Epoch 55/100\n",
      "12239/12239 [==============================] - 28s 2ms/step - loss: 1.9879e-05 - mae: 0.0011 - val_loss: 7.2923e-07 - val_mae: 5.5221e-04\n",
      "Epoch 56/100\n",
      "12239/12239 [==============================] - 28s 2ms/step - loss: 1.9866e-05 - mae: 0.0011 - val_loss: 8.4137e-07 - val_mae: 6.6770e-04\n",
      "Epoch 57/100\n",
      "12239/12239 [==============================] - 28s 2ms/step - loss: 1.9843e-05 - mae: 0.0011 - val_loss: 7.7153e-07 - val_mae: 5.7344e-04\n",
      "Epoch 58/100\n",
      "12239/12239 [==============================] - 28s 2ms/step - loss: 1.9830e-05 - mae: 0.0011 - val_loss: 8.4674e-07 - val_mae: 6.6952e-04\n",
      "Epoch 59/100\n",
      "12239/12239 [==============================] - 28s 2ms/step - loss: 1.9812e-05 - mae: 0.0011 - val_loss: 7.3014e-07 - val_mae: 5.8337e-04\n",
      "Epoch 60/100\n",
      "12239/12239 [==============================] - 28s 2ms/step - loss: 1.9818e-05 - mae: 0.0011 - val_loss: 1.1680e-06 - val_mae: 8.0440e-04\n",
      "Epoch 61/100\n",
      "12239/12239 [==============================] - 27s 2ms/step - loss: 1.9831e-05 - mae: 0.0011 - val_loss: 9.6396e-07 - val_mae: 7.4601e-04\n",
      "Epoch 62/100\n",
      "12239/12239 [==============================] - 28s 2ms/step - loss: 1.9815e-05 - mae: 0.0011 - val_loss: 8.3342e-07 - val_mae: 6.7032e-04\n",
      "Epoch 63/100\n",
      "12239/12239 [==============================] - 28s 2ms/step - loss: 1.9755e-05 - mae: 0.0011 - val_loss: 7.3616e-07 - val_mae: 5.5318e-04\n",
      "Epoch 64/100\n",
      "12239/12239 [==============================] - 28s 2ms/step - loss: 1.9761e-05 - mae: 0.0011 - val_loss: 7.7029e-07 - val_mae: 5.9170e-04\n",
      "Epoch 65/100\n",
      "12239/12239 [==============================] - 28s 2ms/step - loss: 1.9776e-05 - mae: 0.0011 - val_loss: 7.5091e-07 - val_mae: 5.8935e-04\n",
      "Epoch 66/100\n",
      "12239/12239 [==============================] - 28s 2ms/step - loss: 1.9858e-05 - mae: 0.0011 - val_loss: 6.8166e-07 - val_mae: 5.2900e-04\n",
      "Epoch 67/100\n",
      "12239/12239 [==============================] - 27s 2ms/step - loss: 1.9783e-05 - mae: 0.0011 - val_loss: 7.9755e-07 - val_mae: 5.8969e-04\n",
      "Epoch 68/100\n",
      "12239/12239 [==============================] - 28s 2ms/step - loss: 1.9764e-05 - mae: 0.0011 - val_loss: 1.0989e-06 - val_mae: 8.1314e-04\n",
      "Epoch 69/100\n",
      "12239/12239 [==============================] - 28s 2ms/step - loss: 1.9740e-05 - mae: 0.0011 - val_loss: 8.3063e-07 - val_mae: 6.3592e-04\n",
      "Epoch 70/100\n",
      "12239/12239 [==============================] - 28s 2ms/step - loss: 1.9781e-05 - mae: 0.0011 - val_loss: 8.9808e-07 - val_mae: 6.7647e-04\n",
      "Epoch 71/100\n",
      "12239/12239 [==============================] - 28s 2ms/step - loss: 1.9759e-05 - mae: 0.0011 - val_loss: 7.5064e-07 - val_mae: 5.7310e-04\n",
      "Epoch 72/100\n",
      "12239/12239 [==============================] - 28s 2ms/step - loss: 1.9722e-05 - mae: 0.0010 - val_loss: 7.9135e-07 - val_mae: 6.1957e-04\n",
      "Epoch 73/100\n",
      "12239/12239 [==============================] - 28s 2ms/step - loss: 1.9750e-05 - mae: 0.0010 - val_loss: 7.9989e-07 - val_mae: 6.0206e-04\n",
      "Epoch 74/100\n",
      "12239/12239 [==============================] - 28s 2ms/step - loss: 1.9721e-05 - mae: 0.0010 - val_loss: 8.6530e-07 - val_mae: 6.5269e-04\n",
      "Epoch 75/100\n",
      "12239/12239 [==============================] - 28s 2ms/step - loss: 1.9723e-05 - mae: 0.0010 - val_loss: 7.2788e-07 - val_mae: 5.4875e-04\n",
      "Epoch 76/100\n",
      "12239/12239 [==============================] - 28s 2ms/step - loss: 1.9723e-05 - mae: 0.0010 - val_loss: 6.9276e-07 - val_mae: 5.3227e-04\n",
      "Epoch 77/100\n",
      "12239/12239 [==============================] - 28s 2ms/step - loss: 1.9718e-05 - mae: 0.0010 - val_loss: 8.6303e-07 - val_mae: 6.7003e-04\n",
      "Epoch 78/100\n",
      "12239/12239 [==============================] - 28s 2ms/step - loss: 1.9725e-05 - mae: 0.0010 - val_loss: 8.0630e-07 - val_mae: 6.0007e-04\n",
      "Epoch 79/100\n",
      "12239/12239 [==============================] - 28s 2ms/step - loss: 1.9728e-05 - mae: 0.0011 - val_loss: 7.2054e-07 - val_mae: 5.3632e-04\n",
      "Epoch 80/100\n",
      "12239/12239 [==============================] - 28s 2ms/step - loss: 1.9684e-05 - mae: 0.0010 - val_loss: 7.9760e-07 - val_mae: 6.3637e-04\n",
      "Epoch 81/100\n",
      "12239/12239 [==============================] - 28s 2ms/step - loss: 1.9701e-05 - mae: 0.0010 - val_loss: 8.4008e-07 - val_mae: 6.7345e-04\n",
      "Epoch 82/100\n",
      "12239/12239 [==============================] - 28s 2ms/step - loss: 1.9695e-05 - mae: 0.0010 - val_loss: 7.1703e-07 - val_mae: 5.4706e-04\n",
      "Epoch 83/100\n",
      "12239/12239 [==============================] - 28s 2ms/step - loss: 1.9705e-05 - mae: 0.0010 - val_loss: 7.6783e-07 - val_mae: 5.7409e-04\n",
      "Epoch 84/100\n",
      "12239/12239 [==============================] - 28s 2ms/step - loss: 1.9709e-05 - mae: 0.0010 - val_loss: 8.6297e-07 - val_mae: 6.8147e-04\n",
      "Epoch 85/100\n",
      "12239/12239 [==============================] - 28s 2ms/step - loss: 1.9685e-05 - mae: 0.0010 - val_loss: 7.1348e-07 - val_mae: 5.7482e-04\n",
      "Epoch 86/100\n",
      "12239/12239 [==============================] - 28s 2ms/step - loss: 1.9685e-05 - mae: 0.0010 - val_loss: 7.3014e-07 - val_mae: 5.6846e-04\n",
      "Epoch 87/100\n",
      "12239/12239 [==============================] - 28s 2ms/step - loss: 1.9676e-05 - mae: 0.0010 - val_loss: 6.9379e-07 - val_mae: 5.3282e-04\n",
      "Epoch 88/100\n",
      "12239/12239 [==============================] - 28s 2ms/step - loss: 1.9689e-05 - mae: 0.0010 - val_loss: 8.1091e-07 - val_mae: 6.5072e-04\n",
      "Epoch 89/100\n",
      "12239/12239 [==============================] - 28s 2ms/step - loss: 1.9685e-05 - mae: 0.0010 - val_loss: 7.6415e-07 - val_mae: 6.1372e-04\n",
      "Epoch 90/100\n",
      "12239/12239 [==============================] - 28s 2ms/step - loss: 1.9693e-05 - mae: 0.0010 - val_loss: 7.7130e-07 - val_mae: 5.9153e-04\n",
      "Epoch 91/100\n",
      "12239/12239 [==============================] - 28s 2ms/step - loss: 1.9670e-05 - mae: 0.0010 - val_loss: 8.4977e-07 - val_mae: 6.6872e-04\n",
      "Epoch 92/100\n",
      "12239/12239 [==============================] - 29s 2ms/step - loss: 1.9687e-05 - mae: 0.0010 - val_loss: 8.0066e-07 - val_mae: 5.8877e-04\n",
      "Epoch 93/100\n",
      "12239/12239 [==============================] - 31s 3ms/step - loss: 1.9673e-05 - mae: 0.0010 - val_loss: 7.5073e-07 - val_mae: 5.6468e-04\n",
      "Epoch 94/100\n",
      "12239/12239 [==============================] - 29s 2ms/step - loss: 1.9667e-05 - mae: 0.0010 - val_loss: 1.3906e-06 - val_mae: 9.4493e-04\n",
      "Epoch 95/100\n",
      "12239/12239 [==============================] - 29s 2ms/step - loss: 1.9669e-05 - mae: 0.0010 - val_loss: 7.6973e-07 - val_mae: 6.1198e-04\n",
      "Epoch 96/100\n",
      "12239/12239 [==============================] - 28s 2ms/step - loss: 1.9666e-05 - mae: 0.0010 - val_loss: 8.9686e-07 - val_mae: 7.0691e-04\n",
      "Epoch 97/100\n",
      "12239/12239 [==============================] - 28s 2ms/step - loss: 1.9664e-05 - mae: 0.0010 - val_loss: 6.9253e-07 - val_mae: 5.2635e-04\n",
      "Epoch 98/100\n",
      "12239/12239 [==============================] - 28s 2ms/step - loss: 1.9662e-05 - mae: 0.0010 - val_loss: 7.6425e-07 - val_mae: 6.1737e-04\n",
      "Epoch 99/100\n",
      "12239/12239 [==============================] - 28s 2ms/step - loss: 1.9661e-05 - mae: 0.0010 - val_loss: 7.2338e-07 - val_mae: 5.5576e-04\n",
      "Epoch 100/100\n",
      "12239/12239 [==============================] - 28s 2ms/step - loss: 1.9664e-05 - mae: 0.0010 - val_loss: 9.0647e-07 - val_mae: 7.1124e-04\n"
     ]
    }
   ],
   "source": [
    "history = model.fit(\n",
    "    X_train, y_train,\n",
    "    epochs=100,\n",
    "    batch_size=8,\n",
    "    validation_split=0.2,\n",
    "    verbose=1,\n",
    ")"
   ]
  },
  {
   "cell_type": "code",
   "execution_count": 81,
   "id": "3202bbb8-3628-4958-8ad6-36aa739eb960",
   "metadata": {},
   "outputs": [
    {
     "name": "stdout",
     "output_type": "stream",
     "text": [
      "957/957 [==============================] - 3s 3ms/step\n"
     ]
    }
   ],
   "source": [
    "y_pred = model.predict(X_test)"
   ]
  },
  {
   "cell_type": "code",
   "execution_count": 82,
   "id": "32011223-4a7a-4c93-b6e0-4ee1e2758552",
   "metadata": {},
   "outputs": [],
   "source": [
    "y_test_orig = scaler_fwaterlevel.inverse_transform(y_test.reshape(-1, 1))\n",
    "y_pred_orig = scaler_fwaterlevel.inverse_transform(y_pred)"
   ]
  },
  {
   "cell_type": "code",
   "execution_count": 83,
   "id": "968b4d6b-48c1-4872-b418-3aa917a78a7a",
   "metadata": {},
   "outputs": [],
   "source": [
    "def nash_sutcliffe(y_true, y_pred):\n",
    "    numerator = np.sum((y_true - y_pred) ** 2)\n",
    "    denominator = np.sum((y_true - np.mean(y_true)) ** 2)\n",
    "    return 1 - (numerator / denominator)"
   ]
  },
  {
   "cell_type": "code",
   "execution_count": 84,
   "id": "2e32b82a-f022-49c4-bbba-e032751f2a45",
   "metadata": {},
   "outputs": [
    {
     "name": "stdout",
     "output_type": "stream",
     "text": [
      "\n",
      "Model Performance Metrics:\n",
      "Mean Absolute Error (MAE): 0.14475\n",
      "R² Score: 0.84\n",
      "Nash-Sutcliffe Efficiency (NSE): 0.84\n",
      "Mean Squared Error (MSE): 0.04055\n",
      "Root Mean Squared Error (RMSE): 0.20136\n"
     ]
    }
   ],
   "source": [
    "from sklearn.metrics import mean_squared_error\n",
    "\n",
    "mse = mean_squared_error(y_test_orig, y_pred_orig)\n",
    "rmse = np.sqrt(mse)\n",
    "\n",
    "mae = mean_absolute_error(y_test_orig, y_pred_orig)\n",
    "r2 = r2_score(y_test_orig, y_pred_orig)\n",
    "nse = nash_sutcliffe(y_test_orig, y_pred_orig)\n",
    "\n",
    "print(f\"\\nModel Performance Metrics:\")\n",
    "print(f\"Mean Absolute Error (MAE): {mae:.5f}\")\n",
    "print(f\"R² Score: {r2:.2f}\")\n",
    "print(f\"Nash-Sutcliffe Efficiency (NSE): {nse:.2f}\")\n",
    "print(f\"Mean Squared Error (MSE): {mse:.5f}\")\n",
    "print(f\"Root Mean Squared Error (RMSE): {rmse:.5f}\")"
   ]
  },
  {
   "cell_type": "code",
   "execution_count": 85,
   "id": "c0f5b0ee-57e4-4e2c-a6d0-7046c51706f0",
   "metadata": {},
   "outputs": [
    {
     "data": {
      "image/png": "[encoded data removed]",
      "text/plain": [
       "<Figure size 1000x500 with 1 Axes>"
      ]
     },
     "metadata": {},
     "output_type": "display_data"
    }
   ],
   "source": [
    "plt.figure(figsize=(10, 5))\n",
    "plt.plot(history.history['loss'], label='Training Loss', color='blue')\n",
    "plt.plot(history.history['val_loss'], label='Validation Loss', color='red')\n",
    "plt.xlabel('Epochs')\n",
    "plt.ylabel('Loss')\n",
    "plt.title('Loss Curve')\n",
    "plt.legend()\n",
    "plt.show()"
   ]
  },
  {
   "cell_type": "code",
   "execution_count": 86,
   "id": "0cd0078e-4aea-4021-bb72-22e9ecc7d814",
   "metadata": {},
   "outputs": [
    {
     "name": "stdout",
     "output_type": "stream",
     "text": [
      "\n",
      "Predictions vs Actual Values:\n",
      "Prediction: -0.795, Actual: -0.670\n",
      "Prediction: -0.860, Actual: -0.720\n",
      "Prediction: -0.928, Actual: -0.970\n",
      "Prediction: -1.045, Actual: -1.290\n",
      "Prediction: -1.158, Actual: -1.400\n",
      "Prediction: -1.216, Actual: -1.430\n",
      "Prediction: -1.264, Actual: -1.450\n",
      "Prediction: -1.275, Actual: -1.460\n",
      "Prediction: -1.240, Actual: -1.470\n",
      "Prediction: -1.188, Actual: -1.470\n",
      "Prediction: -1.068, Actual: -1.470\n",
      "Prediction: -0.934, Actual: -1.200\n",
      "Prediction: -0.868, Actual: -0.930\n",
      "Prediction: -0.826, Actual: -0.840\n",
      "Prediction: -0.825, Actual: -0.860\n",
      "Prediction: -0.919, Actual: -0.970\n",
      "Prediction: -1.048, Actual: -1.190\n",
      "Prediction: -1.134, Actual: -1.390\n",
      "Prediction: -1.217, Actual: -1.420\n",
      "Prediction: -1.280, Actual: -1.440\n"
     ]
    }
   ],
   "source": [
    "# Print predictions vs actual values\n",
    "print(\"\\nPredictions vs Actual Values:\")\n",
    "for i in range(min(20, len(y_pred_orig))):  # Print first 20\n",
    "    print(f\"Prediction: {y_pred_orig[i][0]:.3f}, Actual: {y_test_orig[i][0]:.3f}\")"
   ]
  },
  {
   "cell_type": "code",
   "execution_count": 87,
   "id": "19767e17-0db3-482e-a49f-008267302012",
   "metadata": {},
   "outputs": [
    {
     "name": "stderr",
     "output_type": "stream",
     "text": [
      "c:\\users\\mj\\appdata\\local\\programs\\python\\python39\\lib\\site-packages\\keras\\src\\engine\\training.py:3000: UserWarning: You are saving your model as an HDF5 file via `model.save()`. This file format is considered legacy. We recommend using instead the native Keras format, e.g. `model.save('my_model.keras')`.\n",
      "  saving_api.save_model(\n"
     ]
    }
   ],
   "source": [
    "model.save('flows_modelv3.h5')"
   ]
  },
  {
   "cell_type": "code",
   "execution_count": null,
   "id": "e92b6288-8e82-43a9-ad82-a652ab09a4f0",
   "metadata": {},
   "outputs": [],
   "source": []
  }
 ],
 "metadata": {
  "kernelspec": {
   "display_name": "Python 3 (ipykernel)",
   "language": "python",
   "name": "python3"
  },
  "language_info": {
   "codemirror_mode": {
    "name": "ipython",
    "version": 3
   },
   "file_extension": ".py",
   "mimetype": "text/x-python",
   "name": "python",
   "nbconvert_exporter": "python",
   "pygments_lexer": "ipython3",
   "version": "3.9.2"
  }
 },
 "nbformat": 4,
 "nbformat_minor": 5
}

{
 "cells": [
  {
   "cell_type": "code",
   "execution_count": 1,
   "id": "93f8b458-2a30-4562-8e6c-f65db2771f32",
   "metadata": {},
   "outputs": [
    {
     "name": "stderr",
     "output_type": "stream",
     "text": [
      "C:\\Users\\mj\\AppData\\Local\\Temp\\ipykernel_3552\\3168417226.py:2: DeprecationWarning: \n",
      "Pyarrow will become a required dependency of pandas in the next major release of pandas (pandas 3.0),\n",
      "(to allow more performant data types, such as the Arrow string type, and better interoperability with other libraries)\n",
      "but was not found to be installed on your system.\n",
      "If this would cause problems for you,\n",
      "please provide us feedback at https://github.com/pandas-dev/pandas/issues/54466\n",
      "        \n",
      "  import pandas as pd\n"
     ]
    }
   ],
   "source": [
    "import numpy as np\n",
    "import pandas as pd\n",
    "from sklearn.preprocessing import MinMaxScaler\n",
    "from sklearn.model_selection import train_test_split\n",
    "from tensorflow.keras.models import Sequential\n",
    "from tensorflow.keras.layers import Dense\n",
    "from tensorflow.keras.callbacks import EarlyStopping\n",
    "import matplotlib.pyplot as plt\n",
    "from sklearn.metrics import mean_absolute_error, r2_score"
   ]
  },
  {
   "cell_type": "code",
   "execution_count": 2,
   "id": "0c6fbcdf-bc99-4655-9ec5-73d6ebe476ff",
   "metadata": {},
   "outputs": [],
   "source": [
    "finaldata = pd.read_csv(\"finaldata2.csv\")"
   ]
  },
  {
   "cell_type": "code",
   "execution_count": 3,
   "id": "54367003-e316-4e2e-aabb-b96285287c78",
   "metadata": {},
   "outputs": [],
   "source": [
    "rainfall = finaldata['Rainfall'].values\n",
    "waterlevel = finaldata['WaterLevel'].values\n",
    "fwaterlevel = finaldata['FWaterLevel'].values"
   ]
  },
  {
   "cell_type": "code",
   "execution_count": 4,
   "id": "d4eb03ad-a108-45d0-a4a3-ac00dce660f5",
   "metadata": {},
   "outputs": [],
   "source": [
    "scaler_rainfall = MinMaxScaler()\n",
    "scaler_waterlevel = MinMaxScaler()\n",
    "scaler_fwaterlevel = MinMaxScaler()\n",
    "rainfall_scaled = scaler_rainfall.fit_transform(rainfall.reshape(-1, 1))\n",
    "waterlevel_scaled = scaler_waterlevel.fit_transform(waterlevel.reshape(-1, 1))\n",
    "fwaterlevel_scaled = scaler_fwaterlevel.fit_transform(fwaterlevel.reshape(-1, 1))"
   ]
  },
  {
   "cell_type": "code",
   "execution_count": 5,
   "id": "30ee798e-8c61-4abf-bbe4-2efe09e82509",
   "metadata": {},
   "outputs": [],
   "source": [
    "def create_narx_dataset(waterlevel, rainfall, fwaterlevel, n_y, n_u):\n",
    "    X, y = [], []\n",
    "    for i in range(len(waterlevel) - max(n_y, n_u)):\n",
    "        y_input = waterlevel[i:i+n_y].flatten()\n",
    "        u_input = rainfall[i:i+n_u].flatten()\n",
    "        X.append(np.concatenate((y_input, u_input)))\n",
    "        y.append(fwaterlevel[i+n_y])\n",
    "    return np.array(X), np.array(y)\n",
    "\n",
    "n_y = 48\n",
    "n_u = 48\n",
    "X, y = create_narx_dataset(waterlevel_scaled, rainfall_scaled, fwaterlevel_scaled, n_y, n_u)"
   ]
  },
  {
   "cell_type": "code",
   "execution_count": 6,
   "id": "7461c4ec-4314-436b-bbc3-2a59053f8ef7",
   "metadata": {},
   "outputs": [],
   "source": [
    "X_train, X_test, y_train, y_test = train_test_split(X, y, test_size=0.2, shuffle=False)"
   ]
  },
  {
   "cell_type": "code",
   "execution_count": 7,
   "id": "7235823c-858d-4bc8-baf7-91a5f0b6e40d",
   "metadata": {},
   "outputs": [],
   "source": [
    "model = Sequential()\n",
    "model.add(Dense(64, input_dim=n_y + n_u, activation='tanh'))\n",
    "model.add(Dense(64, activation='tanh'))\n",
    "model.add(Dense(32, activation='tanh'))\n",
    "model.add(Dense(1, activation='linear'))"
   ]
  },
  {
   "cell_type": "code",
   "execution_count": 8,
   "id": "a00dd928-e03b-4fff-b251-27850e7a6efe",
   "metadata": {},
   "outputs": [],
   "source": [
    "from tensorflow.keras.optimizers import Adam\n",
    "\n",
    "model.compile(optimizer=Adam(learning_rate=0.0001), loss='mse', metrics=['mae'])"
   ]
  },
  {
   "cell_type": "code",
   "execution_count": null,
   "id": "013ce7f8-dc2e-4f6f-9d15-fbe5b47dabb8",
   "metadata": {},
   "outputs": [],
   "source": [
    "early_stopping = EarlyStopping(\n",
    "    monitor='val_loss',\n",
    "    patience=10,\n",
    "    restore_best_weights=True\n",
    ")"
   ]
  },
  {
   "cell_type": "code",
   "execution_count": 9,
   "id": "ab32299a-b106-4ad3-bf37-2248e2834e74",
   "metadata": {},
   "outputs": [
    {
     "name": "stdout",
     "output_type": "stream",
     "text": [
      "Epoch 1/100\n",
      "12237/12237 [==============================] - 27s 2ms/step - loss: 4.4847e-05 - mae: 0.0022 - val_loss: 2.1084e-06 - val_mae: 0.0012\n",
      "Epoch 2/100\n",
      "12237/12237 [==============================] - 29s 2ms/step - loss: 2.4409e-05 - mae: 0.0016 - val_loss: 7.0916e-06 - val_mae: 0.0021\n",
      "Epoch 3/100\n",
      "12237/12237 [==============================] - 31s 3ms/step - loss: 2.3501e-05 - mae: 0.0015 - val_loss: 1.7163e-06 - val_mae: 9.8744e-04\n",
      "Epoch 4/100\n",
      "12237/12237 [==============================] - 27s 2ms/step - loss: 2.2991e-05 - mae: 0.0015 - val_loss: 1.8559e-06 - val_mae: 9.7588e-04\n",
      "Epoch 5/100\n",
      "12237/12237 [==============================] - 26s 2ms/step - loss: 2.2178e-05 - mae: 0.0014 - val_loss: 3.3823e-06 - val_mae: 0.0013\n",
      "Epoch 6/100\n",
      "12237/12237 [==============================] - 29s 2ms/step - loss: 2.1457e-05 - mae: 0.0013 - val_loss: 1.0559e-06 - val_mae: 7.6023e-04\n",
      "Epoch 7/100\n",
      "12237/12237 [==============================] - 23s 2ms/step - loss: 2.1117e-05 - mae: 0.0013 - val_loss: 1.0205e-06 - val_mae: 6.7953e-04\n",
      "Epoch 8/100\n",
      "12237/12237 [==============================] - 27s 2ms/step - loss: 2.0747e-05 - mae: 0.0013 - val_loss: 1.1057e-06 - val_mae: 7.6425e-04\n",
      "Epoch 9/100\n",
      "12237/12237 [==============================] - 26s 2ms/step - loss: 2.0615e-05 - mae: 0.0012 - val_loss: 1.0452e-06 - val_mae: 7.1498e-04\n",
      "Epoch 10/100\n",
      "12237/12237 [==============================] - 24s 2ms/step - loss: 2.0572e-05 - mae: 0.0012 - val_loss: 1.6213e-06 - val_mae: 0.0010\n",
      "Epoch 11/100\n",
      "12237/12237 [==============================] - 26s 2ms/step - loss: 2.0487e-05 - mae: 0.0012 - val_loss: 1.0255e-06 - val_mae: 6.8268e-04\n",
      "Epoch 12/100\n",
      "12237/12237 [==============================] - 25s 2ms/step - loss: 2.0479e-05 - mae: 0.0012 - val_loss: 1.0129e-06 - val_mae: 6.9585e-04\n",
      "Epoch 13/100\n",
      "12237/12237 [==============================] - 23s 2ms/step - loss: 2.0407e-05 - mae: 0.0012 - val_loss: 8.4569e-07 - val_mae: 5.8546e-04\n",
      "Epoch 14/100\n",
      "12237/12237 [==============================] - 28s 2ms/step - loss: 2.0226e-05 - mae: 0.0012 - val_loss: 1.1718e-06 - val_mae: 8.0437e-04\n",
      "Epoch 15/100\n",
      "12237/12237 [==============================] - 28s 2ms/step - loss: 2.0232e-05 - mae: 0.0012 - val_loss: 7.6893e-07 - val_mae: 5.7224e-04\n",
      "Epoch 16/100\n",
      "12237/12237 [==============================] - 28s 2ms/step - loss: 2.0290e-05 - mae: 0.0011 - val_loss: 8.5902e-07 - val_mae: 6.2325e-04\n",
      "Epoch 17/100\n",
      "12237/12237 [==============================] - 27s 2ms/step - loss: 2.0191e-05 - mae: 0.0011 - val_loss: 9.1943e-07 - val_mae: 6.3279e-04\n",
      "Epoch 18/100\n",
      "12237/12237 [==============================] - 28s 2ms/step - loss: 2.0206e-05 - mae: 0.0012 - val_loss: 7.5837e-05 - val_mae: 0.0086\n",
      "Epoch 19/100\n",
      "12237/12237 [==============================] - 26s 2ms/step - loss: 2.0135e-05 - mae: 0.0011 - val_loss: 7.3782e-07 - val_mae: 5.3388e-04\n",
      "Epoch 20/100\n",
      "12237/12237 [==============================] - 29s 2ms/step - loss: 1.9978e-05 - mae: 0.0011 - val_loss: 1.0466e-06 - val_mae: 7.2036e-04\n",
      "Epoch 21/100\n",
      "12237/12237 [==============================] - 29s 2ms/step - loss: 2.0117e-05 - mae: 0.0011 - val_loss: 1.1432e-06 - val_mae: 7.9044e-04\n",
      "Epoch 22/100\n",
      "12237/12237 [==============================] - 27s 2ms/step - loss: 2.0317e-05 - mae: 0.0011 - val_loss: 1.2567e-06 - val_mae: 8.6254e-04\n",
      "Epoch 23/100\n",
      "12237/12237 [==============================] - 30s 2ms/step - loss: 2.0034e-05 - mae: 0.0011 - val_loss: 8.9059e-07 - val_mae: 6.5922e-04\n",
      "Epoch 24/100\n",
      "12237/12237 [==============================] - 26s 2ms/step - loss: 2.0056e-05 - mae: 0.0011 - val_loss: 8.1034e-07 - val_mae: 5.8181e-04\n",
      "Epoch 25/100\n",
      "12237/12237 [==============================] - 27s 2ms/step - loss: 2.0008e-05 - mae: 0.0011 - val_loss: 1.0927e-06 - val_mae: 7.9130e-04\n",
      "Epoch 26/100\n",
      "12237/12237 [==============================] - 27s 2ms/step - loss: 1.9975e-05 - mae: 0.0011 - val_loss: 8.1850e-07 - val_mae: 5.9950e-04\n",
      "Epoch 27/100\n",
      "12237/12237 [==============================] - 27s 2ms/step - loss: 2.0090e-05 - mae: 0.0011 - val_loss: 8.3615e-07 - val_mae: 5.9641e-04\n",
      "Epoch 28/100\n",
      "12237/12237 [==============================] - 26s 2ms/step - loss: 2.0002e-05 - mae: 0.0011 - val_loss: 7.7162e-07 - val_mae: 5.6591e-04\n",
      "Epoch 29/100\n",
      "12237/12237 [==============================] - 27s 2ms/step - loss: 1.9994e-05 - mae: 0.0011 - val_loss: 8.4294e-07 - val_mae: 6.3086e-04\n",
      "Epoch 30/100\n",
      "12237/12237 [==============================] - 28s 2ms/step - loss: 1.9996e-05 - mae: 0.0011 - val_loss: 1.6428e-06 - val_mae: 0.0010\n",
      "Epoch 31/100\n",
      "12237/12237 [==============================] - 26s 2ms/step - loss: 1.9922e-05 - mae: 0.0011 - val_loss: 7.8338e-07 - val_mae: 5.6165e-04\n",
      "Epoch 32/100\n",
      "12237/12237 [==============================] - 28s 2ms/step - loss: 2.0039e-05 - mae: 0.0011 - val_loss: 8.2514e-07 - val_mae: 6.0556e-04\n",
      "Epoch 33/100\n",
      "12237/12237 [==============================] - 27s 2ms/step - loss: 1.9874e-05 - mae: 0.0011 - val_loss: 8.7936e-07 - val_mae: 6.7516e-04\n",
      "Epoch 34/100\n",
      "12237/12237 [==============================] - 27s 2ms/step - loss: 1.9880e-05 - mae: 0.0011 - val_loss: 7.2581e-07 - val_mae: 5.4260e-04\n",
      "Epoch 35/100\n",
      "12237/12237 [==============================] - 26s 2ms/step - loss: 1.9842e-05 - mae: 0.0011 - val_loss: 8.8501e-07 - val_mae: 6.6988e-04\n",
      "Epoch 36/100\n",
      "12237/12237 [==============================] - 30s 2ms/step - loss: 1.9912e-05 - mae: 0.0011 - val_loss: 8.6680e-07 - val_mae: 6.5817e-04\n",
      "Epoch 37/100\n",
      "12237/12237 [==============================] - 26s 2ms/step - loss: 1.9857e-05 - mae: 0.0011 - val_loss: 9.1831e-07 - val_mae: 6.5303e-04\n",
      "Epoch 38/100\n",
      "12237/12237 [==============================] - 27s 2ms/step - loss: 1.9839e-05 - mae: 0.0011 - val_loss: 9.7527e-07 - val_mae: 7.0857e-04\n",
      "Epoch 39/100\n",
      "12237/12237 [==============================] - 24s 2ms/step - loss: 1.9823e-05 - mae: 0.0011 - val_loss: 8.7323e-07 - val_mae: 6.2975e-04\n",
      "Epoch 40/100\n",
      "12237/12237 [==============================] - 24s 2ms/step - loss: 1.9848e-05 - mae: 0.0011 - val_loss: 9.5280e-07 - val_mae: 7.1905e-04\n",
      "Epoch 41/100\n",
      "12237/12237 [==============================] - 26s 2ms/step - loss: 1.9837e-05 - mae: 0.0011 - val_loss: 9.1851e-07 - val_mae: 7.0480e-04\n",
      "Epoch 42/100\n",
      "12237/12237 [==============================] - 23s 2ms/step - loss: 1.9798e-05 - mae: 0.0011 - val_loss: 1.4404e-06 - val_mae: 9.4039e-04\n",
      "Epoch 43/100\n",
      "12237/12237 [==============================] - 26s 2ms/step - loss: 1.9802e-05 - mae: 0.0011 - val_loss: 1.8359e-06 - val_mae: 0.0011\n",
      "Epoch 44/100\n",
      "12237/12237 [==============================] - 26s 2ms/step - loss: 1.9761e-05 - mae: 0.0011 - val_loss: 8.2299e-07 - val_mae: 5.9419e-04\n",
      "Epoch 45/100\n",
      "12237/12237 [==============================] - 26s 2ms/step - loss: 1.9786e-05 - mae: 0.0011 - val_loss: 9.4829e-07 - val_mae: 7.2651e-04\n",
      "Epoch 46/100\n",
      "12237/12237 [==============================] - 23s 2ms/step - loss: 1.9723e-05 - mae: 0.0011 - val_loss: 8.3235e-07 - val_mae: 6.2083e-04\n",
      "Epoch 47/100\n",
      "12237/12237 [==============================] - 23s 2ms/step - loss: 1.9813e-05 - mae: 0.0011 - val_loss: 7.5425e-07 - val_mae: 5.5948e-04\n",
      "Epoch 48/100\n",
      "12237/12237 [==============================] - 23s 2ms/step - loss: 1.9694e-05 - mae: 0.0011 - val_loss: 1.0277e-06 - val_mae: 7.1569e-04\n",
      "Epoch 49/100\n",
      "12237/12237 [==============================] - 22s 2ms/step - loss: 1.9718e-05 - mae: 0.0011 - val_loss: 8.4650e-07 - val_mae: 6.2838e-04\n",
      "Epoch 50/100\n",
      "12237/12237 [==============================] - 23s 2ms/step - loss: 1.9672e-05 - mae: 0.0010 - val_loss: 1.0034e-06 - val_mae: 7.3257e-04\n",
      "Epoch 51/100\n",
      "12237/12237 [==============================] - 22s 2ms/step - loss: 1.9736e-05 - mae: 0.0011 - val_loss: 6.6006e-07 - val_mae: 5.0258e-04\n",
      "Epoch 52/100\n",
      "12237/12237 [==============================] - 24s 2ms/step - loss: 1.9720e-05 - mae: 0.0011 - val_loss: 8.7872e-07 - val_mae: 6.5837e-04\n",
      "Epoch 53/100\n",
      "12237/12237 [==============================] - 27s 2ms/step - loss: 1.9682e-05 - mae: 0.0011 - val_loss: 1.0150e-06 - val_mae: 7.4918e-04\n",
      "Epoch 54/100\n",
      "12237/12237 [==============================] - 27s 2ms/step - loss: 1.9682e-05 - mae: 0.0010 - val_loss: 9.3060e-07 - val_mae: 6.9065e-04\n",
      "Epoch 55/100\n",
      "12237/12237 [==============================] - 24s 2ms/step - loss: 1.9665e-05 - mae: 0.0010 - val_loss: 7.9117e-07 - val_mae: 5.7883e-04\n",
      "Epoch 56/100\n",
      "12237/12237 [==============================] - 27s 2ms/step - loss: 1.9695e-05 - mae: 0.0010 - val_loss: 7.7500e-07 - val_mae: 5.7746e-04\n",
      "Epoch 57/100\n",
      "12237/12237 [==============================] - 24s 2ms/step - loss: 1.9681e-05 - mae: 0.0010 - val_loss: 8.0108e-07 - val_mae: 5.9885e-04\n",
      "Epoch 58/100\n",
      "12237/12237 [==============================] - 23s 2ms/step - loss: 1.9650e-05 - mae: 0.0011 - val_loss: 1.7498e-06 - val_mae: 9.5925e-04\n",
      "Epoch 59/100\n",
      "12237/12237 [==============================] - 23s 2ms/step - loss: 1.9684e-05 - mae: 0.0010 - val_loss: 8.0908e-07 - val_mae: 5.7848e-04\n",
      "Epoch 60/100\n",
      "12237/12237 [==============================] - 22s 2ms/step - loss: 1.9629e-05 - mae: 0.0010 - val_loss: 7.9551e-07 - val_mae: 5.8937e-04\n",
      "Epoch 61/100\n",
      "12237/12237 [==============================] - 26s 2ms/step - loss: 1.9650e-05 - mae: 0.0010 - val_loss: 7.4445e-07 - val_mae: 5.5322e-04\n",
      "Epoch 62/100\n",
      "12237/12237 [==============================] - 24s 2ms/step - loss: 1.9663e-05 - mae: 0.0010 - val_loss: 7.9596e-07 - val_mae: 5.8531e-04\n",
      "Epoch 63/100\n",
      "12237/12237 [==============================] - 23s 2ms/step - loss: 1.9639e-05 - mae: 0.0010 - val_loss: 8.8837e-07 - val_mae: 6.8203e-04\n",
      "Epoch 64/100\n",
      "12237/12237 [==============================] - 22s 2ms/step - loss: 1.9612e-05 - mae: 0.0010 - val_loss: 1.0544e-06 - val_mae: 7.7711e-04\n",
      "Epoch 65/100\n",
      "12237/12237 [==============================] - 22s 2ms/step - loss: 1.9619e-05 - mae: 0.0010 - val_loss: 7.8980e-07 - val_mae: 5.6259e-04\n",
      "Epoch 66/100\n",
      "12237/12237 [==============================] - 23s 2ms/step - loss: 1.9614e-05 - mae: 0.0010 - val_loss: 8.2118e-07 - val_mae: 6.2767e-04\n",
      "Epoch 67/100\n",
      "12237/12237 [==============================] - 23s 2ms/step - loss: 1.9611e-05 - mae: 0.0010 - val_loss: 7.4950e-07 - val_mae: 5.5286e-04\n",
      "Epoch 68/100\n",
      "12237/12237 [==============================] - 22s 2ms/step - loss: 1.9593e-05 - mae: 0.0010 - val_loss: 8.2290e-07 - val_mae: 6.1938e-04\n",
      "Epoch 69/100\n",
      "12237/12237 [==============================] - 22s 2ms/step - loss: 1.9643e-05 - mae: 0.0010 - val_loss: 8.2760e-07 - val_mae: 6.2795e-04\n",
      "Epoch 70/100\n",
      "12237/12237 [==============================] - 22s 2ms/step - loss: 1.9566e-05 - mae: 0.0010 - val_loss: 7.1500e-07 - val_mae: 5.2748e-04\n",
      "Epoch 71/100\n",
      "12237/12237 [==============================] - 22s 2ms/step - loss: 1.9599e-05 - mae: 0.0010 - val_loss: 8.0890e-07 - val_mae: 6.2022e-04\n",
      "Epoch 72/100\n",
      "12237/12237 [==============================] - 22s 2ms/step - loss: 1.9605e-05 - mae: 0.0010 - val_loss: 7.3658e-07 - val_mae: 5.5818e-04\n",
      "Epoch 73/100\n",
      "12237/12237 [==============================] - 22s 2ms/step - loss: 1.9586e-05 - mae: 0.0010 - val_loss: 7.5569e-07 - val_mae: 5.5632e-04\n",
      "Epoch 74/100\n",
      "12237/12237 [==============================] - 24s 2ms/step - loss: 1.9595e-05 - mae: 0.0010 - val_loss: 7.5093e-07 - val_mae: 5.6578e-04\n",
      "Epoch 75/100\n",
      "12237/12237 [==============================] - 22s 2ms/step - loss: 1.9574e-05 - mae: 0.0010 - val_loss: 9.2098e-07 - val_mae: 7.0390e-04\n",
      "Epoch 76/100\n",
      "12237/12237 [==============================] - 22s 2ms/step - loss: 1.9570e-05 - mae: 0.0010 - val_loss: 7.6597e-07 - val_mae: 5.7760e-04\n",
      "Epoch 77/100\n",
      "12237/12237 [==============================] - 23s 2ms/step - loss: 1.9579e-05 - mae: 0.0010 - val_loss: 7.8106e-07 - val_mae: 5.7719e-04\n",
      "Epoch 78/100\n",
      "12237/12237 [==============================] - 26s 2ms/step - loss: 1.9502e-05 - mae: 0.0010 - val_loss: 8.0018e-07 - val_mae: 6.0546e-04\n",
      "Epoch 79/100\n",
      "12237/12237 [==============================] - 24s 2ms/step - loss: 1.9561e-05 - mae: 0.0010 - val_loss: 8.7836e-07 - val_mae: 6.6434e-04\n",
      "Epoch 80/100\n",
      "12237/12237 [==============================] - 25s 2ms/step - loss: 1.9559e-05 - mae: 0.0010 - val_loss: 7.3191e-07 - val_mae: 5.4147e-04\n",
      "Epoch 81/100\n",
      "12237/12237 [==============================] - 24s 2ms/step - loss: 1.9549e-05 - mae: 0.0010 - val_loss: 7.6366e-07 - val_mae: 5.7755e-04\n",
      "Epoch 82/100\n",
      "12237/12237 [==============================] - 24s 2ms/step - loss: 1.9555e-05 - mae: 0.0010 - val_loss: 8.9740e-07 - val_mae: 6.7728e-04\n",
      "Epoch 83/100\n",
      "12237/12237 [==============================] - 25s 2ms/step - loss: 1.9557e-05 - mae: 0.0010 - val_loss: 7.3418e-07 - val_mae: 5.5097e-04\n",
      "Epoch 84/100\n",
      "12237/12237 [==============================] - 25s 2ms/step - loss: 1.9575e-05 - mae: 0.0010 - val_loss: 8.1811e-07 - val_mae: 5.9188e-04\n",
      "Epoch 85/100\n",
      "12237/12237 [==============================] - 24s 2ms/step - loss: 1.9532e-05 - mae: 0.0010 - val_loss: 7.5670e-07 - val_mae: 5.6176e-04\n",
      "Epoch 86/100\n",
      "12237/12237 [==============================] - 24s 2ms/step - loss: 1.9550e-05 - mae: 0.0010 - val_loss: 7.6803e-07 - val_mae: 5.7370e-04\n",
      "Epoch 87/100\n",
      "12237/12237 [==============================] - 24s 2ms/step - loss: 1.9532e-05 - mae: 0.0010 - val_loss: 7.3667e-07 - val_mae: 5.5080e-04\n",
      "Epoch 88/100\n",
      "12237/12237 [==============================] - 28s 2ms/step - loss: 1.9544e-05 - mae: 0.0010 - val_loss: 1.0906e-06 - val_mae: 7.9396e-04\n",
      "Epoch 89/100\n",
      "12237/12237 [==============================] - 25s 2ms/step - loss: 1.9524e-05 - mae: 0.0010 - val_loss: 7.6646e-07 - val_mae: 5.7220e-04\n",
      "Epoch 90/100\n",
      "12237/12237 [==============================] - 24s 2ms/step - loss: 1.9530e-05 - mae: 0.0010 - val_loss: 7.7713e-07 - val_mae: 5.8447e-04\n",
      "Epoch 91/100\n",
      "12237/12237 [==============================] - 24s 2ms/step - loss: 1.9529e-05 - mae: 0.0010 - val_loss: 7.0921e-07 - val_mae: 5.2403e-04\n",
      "Epoch 92/100\n",
      "12237/12237 [==============================] - 25s 2ms/step - loss: 1.9539e-05 - mae: 0.0010 - val_loss: 7.8528e-07 - val_mae: 5.9512e-04\n",
      "Epoch 93/100\n",
      "12237/12237 [==============================] - 24s 2ms/step - loss: 1.9538e-05 - mae: 0.0010 - val_loss: 8.1772e-07 - val_mae: 6.3202e-04\n",
      "Epoch 94/100\n",
      "12237/12237 [==============================] - 25s 2ms/step - loss: 1.9533e-05 - mae: 0.0010 - val_loss: 7.6722e-07 - val_mae: 5.7464e-04\n",
      "Epoch 95/100\n",
      "12237/12237 [==============================] - 25s 2ms/step - loss: 1.9519e-05 - mae: 0.0010 - val_loss: 7.7638e-07 - val_mae: 5.6923e-04\n",
      "Epoch 96/100\n",
      "12237/12237 [==============================] - 24s 2ms/step - loss: 1.9526e-05 - mae: 0.0010 - val_loss: 7.2760e-07 - val_mae: 5.5444e-04\n",
      "Epoch 97/100\n",
      "12237/12237 [==============================] - 25s 2ms/step - loss: 1.9511e-05 - mae: 0.0010 - val_loss: 8.2287e-07 - val_mae: 6.3105e-04\n",
      "Epoch 98/100\n",
      "12237/12237 [==============================] - 24s 2ms/step - loss: 1.9522e-05 - mae: 0.0010 - val_loss: 7.4592e-07 - val_mae: 5.6456e-04\n",
      "Epoch 99/100\n",
      "12237/12237 [==============================] - 24s 2ms/step - loss: 1.9510e-05 - mae: 9.9995e-04 - val_loss: 8.0786e-07 - val_mae: 6.0634e-04\n",
      "Epoch 100/100\n",
      "12237/12237 [==============================] - 24s 2ms/step - loss: 1.9513e-05 - mae: 0.0010 - val_loss: 7.3426e-07 - val_mae: 5.5570e-04\n"
     ]
    }
   ],
   "source": [
    "history = model.fit(\n",
    "    X_train, y_train,\n",
    "    epochs=100,\n",
    "    batch_size=8,\n",
    "    validation_split=0.2,\n",
    "    verbose=1,\n",
    ")"
   ]
  },
  {
   "cell_type": "code",
   "execution_count": 10,
   "id": "74ecf2a7-4e70-425c-9bff-cb7e7a506d50",
   "metadata": {},
   "outputs": [
    {
     "name": "stdout",
     "output_type": "stream",
     "text": [
      "956/956 [==============================] - 2s 1ms/step\n"
     ]
    }
   ],
   "source": [
    "y_pred = model.predict(X_test)"
   ]
  },
  {
   "cell_type": "code",
   "execution_count": 11,
   "id": "ac0ccad8-ed4b-43eb-a016-23e9229e583c",
   "metadata": {},
   "outputs": [],
   "source": [
    "y_test_orig = scaler_fwaterlevel.inverse_transform(y_test.reshape(-1, 1))\n",
    "y_pred_orig = scaler_fwaterlevel.inverse_transform(y_pred)"
   ]
  },
  {
   "cell_type": "code",
   "execution_count": 12,
   "id": "b0854fe9-7558-4044-b736-cd975ccab9db",
   "metadata": {},
   "outputs": [],
   "source": [
    "def nash_sutcliffe(y_true, y_pred):\n",
    "    numerator = np.sum((y_true - y_pred) ** 2)\n",
    "    denominator = np.sum((y_true - np.mean(y_true)) ** 2)\n",
    "    return 1 - (numerator / denominator)"
   ]
  },
  {
   "cell_type": "code",
   "execution_count": 13,
   "id": "aad3f048-858a-4267-be27-e2d1e68fd4db",
   "metadata": {},
   "outputs": [
    {
     "name": "stdout",
     "output_type": "stream",
     "text": [
      "\n",
      "Model Performance Metrics:\n",
      "Mean Absolute Error (MAE): 0.10869\n",
      "R² Score: 0.87\n",
      "Nash-Sutcliffe Efficiency (NSE): 0.87\n",
      "Mean Squared Error (MSE): 0.03171\n",
      "Root Mean Squared Error (RMSE): 0.17807\n"
     ]
    }
   ],
   "source": [
    "from sklearn.metrics import mean_squared_error\n",
    "\n",
    "mse = mean_squared_error(y_test_orig, y_pred_orig)\n",
    "rmse = np.sqrt(mse)\n",
    "\n",
    "mae = mean_absolute_error(y_test_orig, y_pred_orig)\n",
    "r2 = r2_score(y_test_orig, y_pred_orig)\n",
    "nse = nash_sutcliffe(y_test_orig, y_pred_orig)\n",
    "\n",
    "print(f\"\\nModel Performance Metrics:\")\n",
    "print(f\"Mean Absolute Error (MAE): {mae:.5f}\")\n",
    "print(f\"R² Score: {r2:.2f}\")\n",
    "print(f\"Nash-Sutcliffe Efficiency (NSE): {nse:.2f}\")\n",
    "print(f\"Mean Squared Error (MSE): {mse:.5f}\")\n",
    "print(f\"Root Mean Squared Error (RMSE): {rmse:.5f}\")"
   ]
  },
  {
   "cell_type": "code",
   "execution_count": 14,
   "id": "25090bc6-b808-4938-af82-537861d2c212",
   "metadata": {},
   "outputs": [
    {
     "data": {
      "image/png": "[encoded data removed]",
      "text/plain": [
       "<Figure size 1000x500 with 1 Axes>"
      ]
     },
     "metadata": {},
     "output_type": "display_data"
    }
   ],
   "source": [
    "plt.figure(figsize=(10, 5))\n",
    "plt.plot(history.history['loss'], label='Training Loss', color='blue')\n",
    "plt.plot(history.history['val_loss'], label='Validation Loss', color='red')\n",
    "plt.xlabel('Epochs')\n",
    "plt.ylabel('Loss')\n",
    "plt.title('Loss Curve')\n",
    "plt.legend()\n",
    "plt.show()"
   ]
  },
  {
   "cell_type": "code",
   "execution_count": 15,
   "id": "d5487a16-35a7-42be-8855-f9f30b1ac2e4",
   "metadata": {},
   "outputs": [
    {
     "name": "stdout",
     "output_type": "stream",
     "text": [
      "\n",
      "Predictions vs Actual Values:\n",
      "Prediction: -1.303, Actual: -1.400\n",
      "Prediction: -1.368, Actual: -1.430\n",
      "Prediction: -1.408, Actual: -1.450\n",
      "Prediction: -1.421, Actual: -1.460\n",
      "Prediction: -1.389, Actual: -1.470\n",
      "Prediction: -1.312, Actual: -1.470\n",
      "Prediction: -1.164, Actual: -1.470\n",
      "Prediction: -1.022, Actual: -1.200\n",
      "Prediction: -0.962, Actual: -0.930\n",
      "Prediction: -0.942, Actual: -0.840\n",
      "Prediction: -0.972, Actual: -0.860\n",
      "Prediction: -1.084, Actual: -0.970\n",
      "Prediction: -1.205, Actual: -1.190\n",
      "Prediction: -1.292, Actual: -1.390\n",
      "Prediction: -1.371, Actual: -1.420\n",
      "Prediction: -1.403, Actual: -1.440\n",
      "Prediction: -1.346, Actual: -1.460\n",
      "Prediction: -1.247, Actual: -1.450\n",
      "Prediction: -1.106, Actual: -1.160\n",
      "Prediction: -0.935, Actual: -0.820\n"
     ]
    }
   ],
   "source": [
    "# Print predictions vs actual values\n",
    "print(\"\\nPredictions vs Actual Values:\")\n",
    "for i in range(min(20, len(y_pred_orig))):  # Print first 20\n",
    "    print(f\"Prediction: {y_pred_orig[i][0]:.3f}, Actual: {y_test_orig[i][0]:.3f}\")"
   ]
  },
  {
   "cell_type": "code",
   "execution_count": 16,
   "id": "ec4bb911-e842-42f5-a534-e713c363f1d4",
   "metadata": {},
   "outputs": [
    {
     "name": "stderr",
     "output_type": "stream",
     "text": [
      "c:\\users\\mj\\appdata\\local\\programs\\python\\python39\\lib\\site-packages\\keras\\src\\engine\\training.py:3000: UserWarning: You are saving your model as an HDF5 file via `model.save()`. This file format is considered legacy. We recommend using instead the native Keras format, e.g. `model.save('my_model.keras')`.\n",
      "  saving_api.save_model(\n"
     ]
    }
   ],
   "source": [
    "model.save('flows_modelv4.h5')"
   ]
  },
  {
   "cell_type": "code",
   "execution_count": null,
   "id": "190d604f-353c-49e6-8b97-4d68a97f425c",
   "metadata": {},
   "outputs": [],
   "source": []
  }
 ],
 "metadata": {
  "kernelspec": {
   "display_name": "Python 3 (ipykernel)",
   "language": "python",
   "name": "python3"
  },
  "language_info": {
   "codemirror_mode": {
    "name": "ipython",
    "version": 3
   },
   "file_extension": ".py",
   "mimetype": "text/x-python",
   "name": "python",
   "nbconvert_exporter": "python",
   "pygments_lexer": "ipython3",
   "version": "3.9.2"
  }
 },
 "nbformat": 4,
 "nbformat_minor": 5
}

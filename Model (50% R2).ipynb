{
 "cells": [
  {
   "cell_type": "markdown",
   "id": "bfebb9ca-1b51-41ab-a805-c9983fd9d8f3",
   "metadata": {},
   "source": [
    "<h1>MODEL CLEANER VERSION</h1>"
   ]
  },
  {
   "cell_type": "code",
   "execution_count": 3,
   "id": "7c65c9ef-6604-44b9-a8b8-829280299da8",
   "metadata": {},
   "outputs": [],
   "source": [
    "import numpy as np\n",
    "import pandas as pd\n",
    "from sklearn.preprocessing import MinMaxScaler\n",
    "from sklearn.model_selection import train_test_split\n",
    "from tensorflow.keras.models import Sequential\n",
    "from tensorflow.keras.layers import Dense\n",
    "from tensorflow.keras.callbacks import EarlyStopping\n",
    "import matplotlib.pyplot as plt\n",
    "from sklearn.metrics import mean_absolute_error, r2_score"
   ]
  },
  {
   "cell_type": "code",
   "execution_count": 2,
   "id": "20246af4-5e1b-45fa-b45b-219680de0627",
   "metadata": {},
   "outputs": [],
   "source": [
    "finaldata = pd.read_csv(\"finaldata2.csv\")"
   ]
  },
  {
   "cell_type": "code",
   "execution_count": 4,
   "id": "ef880546-81b0-4fd5-bbf4-5d56ffbeb185",
   "metadata": {},
   "outputs": [],
   "source": [
    "rainfall = finaldata['Rainfall'].values\n",
    "waterlevel = finaldata['WaterLevel'].values\n",
    "fwaterlevel = finaldata['FWaterLevel'].values"
   ]
  },
  {
   "cell_type": "code",
   "execution_count": 5,
   "id": "a5824c53-2478-478c-a808-fb5f2f29497a",
   "metadata": {},
   "outputs": [],
   "source": [
    "scaler_rainfall = MinMaxScaler()\n",
    "scaler_waterlevel = MinMaxScaler()\n",
    "scaler_fwaterlevel = MinMaxScaler()\n",
    "rainfall_scaled = scaler_rainfall.fit_transform(rainfall.reshape(-1, 1))\n",
    "waterlevel_scaled = scaler_waterlevel.fit_transform(waterlevel.reshape(-1, 1))\n",
    "fwaterlevel_scaled = scaler_fwaterlevel.fit_transform(fwaterlevel.reshape(-1, 1))"
   ]
  },
  {
   "cell_type": "code",
   "execution_count": 53,
   "id": "e06b0e30-de8b-41fc-9fc2-857421f130c2",
   "metadata": {},
   "outputs": [],
   "source": [
    "def create_narx_dataset(waterlevel, rainfall, fwaterlevel, n_y, n_u):\n",
    "    X, y = [], []\n",
    "    for i in range(len(waterlevel) - max(n_y, n_u)):\n",
    "        y_input = waterlevel[i:i+n_y].flatten()\n",
    "        u_input = rainfall[i:i+n_u].flatten()\n",
    "        X.append(np.concatenate((y_input, u_input)))\n",
    "        y.append(fwaterlevel[i+n_y])\n",
    "    return np.array(X), np.array(y)\n",
    "\n",
    "n_y = 6\n",
    "n_u = 6\n",
    "X, y = create_narx_dataset(waterlevel_scaled, rainfall_scaled, fwaterlevel_scaled, n_y, n_u)"
   ]
  },
  {
   "cell_type": "code",
   "execution_count": 54,
   "id": "30ed25f6-09eb-4ece-979d-6195881c535f",
   "metadata": {},
   "outputs": [],
   "source": [
    "X_train, X_test, y_train, y_test = train_test_split(X, y, test_size=0.2, shuffle=False)"
   ]
  },
  {
   "cell_type": "code",
   "execution_count": 64,
   "id": "410b3f89-fbe3-441b-b330-7fbfb2f1cad2",
   "metadata": {},
   "outputs": [],
   "source": [
    "model = Sequential()\n",
    "model.add(Dense(64, input_dim=n_y + n_u, activation='tanh'))\n",
    "model.add(Dense(64, activation='tanh'))\n",
    "model.add(Dense(32, activation='tanh'))\n",
    "model.add(Dense(1, activation='linear'))"
   ]
  },
  {
   "cell_type": "code",
   "execution_count": 67,
   "id": "7e4721a6-a1fe-4d9f-9c09-cd5e507cc309",
   "metadata": {},
   "outputs": [],
   "source": [
    "from tensorflow.keras.optimizers import Adam\n",
    "\n",
    "model.compile(optimizer=Adam(learning_rate=0.0001), loss='mse', metrics=['mae'])"
   ]
  },
  {
   "cell_type": "code",
   "execution_count": null,
   "id": "1c2d33db-ba62-4404-b979-16942e0655d6",
   "metadata": {},
   "outputs": [],
   "source": [
    "early_stopping = EarlyStopping(\n",
    "    monitor='val_loss',\n",
    "    patience=10,\n",
    "    restore_best_weights=True\n",
    ")"
   ]
  },
  {
   "cell_type": "code",
   "execution_count": 68,
   "id": "ceb29817-4a03-488b-a0e5-a1f8a0ccac21",
   "metadata": {},
   "outputs": [
    {
     "name": "stdout",
     "output_type": "stream",
     "text": [
      "Epoch 1/100\n",
      "12240/12240 [==============================] - 25s 2ms/step - loss: 3.0286e-05 - mae: 0.0019 - val_loss: 9.8402e-06 - val_mae: 0.0022\n",
      "Epoch 2/100\n",
      "12240/12240 [==============================] - 28s 2ms/step - loss: 2.5645e-05 - mae: 0.0020 - val_loss: 1.4564e-06 - val_mae: 9.4023e-04\n",
      "Epoch 3/100\n",
      "12240/12240 [==============================] - 31s 3ms/step - loss: 3.0336e-05 - mae: 0.0018 - val_loss: 6.4976e-06 - val_mae: 0.0021\n",
      "Epoch 4/100\n",
      "12240/12240 [==============================] - 35s 3ms/step - loss: 2.5714e-05 - mae: 0.0018 - val_loss: 7.5422e-06 - val_mae: 0.0021\n",
      "Epoch 5/100\n",
      "12240/12240 [==============================] - 36s 3ms/step - loss: 2.4018e-05 - mae: 0.0019 - val_loss: 7.0310e-06 - val_mae: 0.0023\n",
      "Epoch 6/100\n",
      "12240/12240 [==============================] - 38s 3ms/step - loss: 2.4412e-05 - mae: 0.0017 - val_loss: 4.1607e-06 - val_mae: 0.0017\n",
      "Epoch 7/100\n",
      "12240/12240 [==============================] - 36s 3ms/step - loss: 2.3144e-05 - mae: 0.0017 - val_loss: 2.7668e-06 - val_mae: 0.0014\n",
      "Epoch 8/100\n",
      "12240/12240 [==============================] - 36s 3ms/step - loss: 2.2643e-05 - mae: 0.0016 - val_loss: 2.9883e-06 - val_mae: 0.0014\n",
      "Epoch 9/100\n",
      "12240/12240 [==============================] - 37s 3ms/step - loss: 2.2988e-05 - mae: 0.0016 - val_loss: 2.3107e-06 - val_mae: 0.0012\n",
      "Epoch 10/100\n",
      "12240/12240 [==============================] - 35s 3ms/step - loss: 2.3124e-05 - mae: 0.0015 - val_loss: 2.4021e-06 - val_mae: 0.0012\n",
      "Epoch 11/100\n",
      "12240/12240 [==============================] - 37s 3ms/step - loss: 2.2416e-05 - mae: 0.0016 - val_loss: 2.0864e-06 - val_mae: 0.0012\n",
      "Epoch 12/100\n",
      "12240/12240 [==============================] - 36s 3ms/step - loss: 2.2390e-05 - mae: 0.0015 - val_loss: 1.8758e-06 - val_mae: 0.0011\n",
      "Epoch 13/100\n",
      "12240/12240 [==============================] - 37s 3ms/step - loss: 2.2589e-05 - mae: 0.0016 - val_loss: 1.6476e-06 - val_mae: 0.0010\n",
      "Epoch 14/100\n",
      "12240/12240 [==============================] - 37s 3ms/step - loss: 2.1813e-05 - mae: 0.0015 - val_loss: 2.1513e-06 - val_mae: 0.0012\n",
      "Epoch 15/100\n",
      "12240/12240 [==============================] - 35s 3ms/step - loss: 2.1994e-05 - mae: 0.0016 - val_loss: 1.6609e-06 - val_mae: 0.0010\n",
      "Epoch 16/100\n",
      "12240/12240 [==============================] - 37s 3ms/step - loss: 2.1658e-05 - mae: 0.0015 - val_loss: 1.7024e-06 - val_mae: 0.0010\n",
      "Epoch 17/100\n",
      "12240/12240 [==============================] - 35s 3ms/step - loss: 2.2026e-05 - mae: 0.0015 - val_loss: 2.1478e-06 - val_mae: 0.0012\n",
      "Epoch 18/100\n",
      "12240/12240 [==============================] - 38s 3ms/step - loss: 2.1947e-05 - mae: 0.0015 - val_loss: 1.8524e-06 - val_mae: 0.0010\n",
      "Epoch 19/100\n",
      "12240/12240 [==============================] - 35s 3ms/step - loss: 2.1740e-05 - mae: 0.0015 - val_loss: 3.9643e-06 - val_mae: 0.0016\n",
      "Epoch 20/100\n",
      "12240/12240 [==============================] - 37s 3ms/step - loss: 2.1791e-05 - mae: 0.0015 - val_loss: 1.9494e-06 - val_mae: 0.0011\n",
      "Epoch 21/100\n",
      "12240/12240 [==============================] - 36s 3ms/step - loss: 2.1754e-05 - mae: 0.0015 - val_loss: 1.9967e-06 - val_mae: 0.0011\n",
      "Epoch 22/100\n",
      "12240/12240 [==============================] - 37s 3ms/step - loss: 2.1796e-05 - mae: 0.0015 - val_loss: 2.6327e-06 - val_mae: 0.0013\n",
      "Epoch 23/100\n",
      "12240/12240 [==============================] - 37s 3ms/step - loss: 2.2206e-05 - mae: 0.0015 - val_loss: 2.3480e-06 - val_mae: 0.0012\n",
      "Epoch 24/100\n",
      "12240/12240 [==============================] - 35s 3ms/step - loss: 2.1815e-05 - mae: 0.0015 - val_loss: 1.9759e-06 - val_mae: 0.0011\n",
      "Epoch 25/100\n",
      "12240/12240 [==============================] - 35s 3ms/step - loss: 2.1868e-05 - mae: 0.0015 - val_loss: 1.9949e-06 - val_mae: 0.0011\n",
      "Epoch 26/100\n",
      "12240/12240 [==============================] - 37s 3ms/step - loss: 2.1765e-05 - mae: 0.0015 - val_loss: 1.6117e-06 - val_mae: 9.9622e-04\n",
      "Epoch 27/100\n",
      "12240/12240 [==============================] - 39s 3ms/step - loss: 2.1859e-05 - mae: 0.0015 - val_loss: 1.7880e-06 - val_mae: 0.0011\n",
      "Epoch 28/100\n",
      "12240/12240 [==============================] - 41s 3ms/step - loss: 2.1741e-05 - mae: 0.0015 - val_loss: 1.8722e-06 - val_mae: 0.0011\n",
      "Epoch 29/100\n",
      "12240/12240 [==============================] - 40s 3ms/step - loss: 2.1571e-05 - mae: 0.0015 - val_loss: 1.8613e-06 - val_mae: 0.0011\n",
      "Epoch 30/100\n",
      "12240/12240 [==============================] - 40s 3ms/step - loss: 2.1592e-05 - mae: 0.0015 - val_loss: 2.6830e-06 - val_mae: 0.0013\n",
      "Epoch 31/100\n",
      "12240/12240 [==============================] - 40s 3ms/step - loss: 2.1803e-05 - mae: 0.0015 - val_loss: 1.8383e-06 - val_mae: 0.0011\n",
      "Epoch 32/100\n",
      "12240/12240 [==============================] - 40s 3ms/step - loss: 2.1520e-05 - mae: 0.0015 - val_loss: 1.7720e-06 - val_mae: 0.0011\n",
      "Epoch 33/100\n",
      "12240/12240 [==============================] - 41s 3ms/step - loss: 2.1521e-05 - mae: 0.0015 - val_loss: 1.9198e-06 - val_mae: 0.0011\n",
      "Epoch 34/100\n",
      "12240/12240 [==============================] - 41s 3ms/step - loss: 2.1672e-05 - mae: 0.0015 - val_loss: 2.0120e-06 - val_mae: 0.0011\n",
      "Epoch 35/100\n",
      "12240/12240 [==============================] - 40s 3ms/step - loss: 2.1727e-05 - mae: 0.0015 - val_loss: 2.3020e-06 - val_mae: 0.0012\n",
      "Epoch 36/100\n",
      "12240/12240 [==============================] - 40s 3ms/step - loss: 2.1564e-05 - mae: 0.0015 - val_loss: 1.5289e-06 - val_mae: 9.6045e-04\n",
      "Epoch 37/100\n",
      "12240/12240 [==============================] - 43s 4ms/step - loss: 2.1510e-05 - mae: 0.0015 - val_loss: 1.6911e-06 - val_mae: 0.0010\n",
      "Epoch 38/100\n",
      "12240/12240 [==============================] - 42s 3ms/step - loss: 2.1640e-05 - mae: 0.0015 - val_loss: 2.7504e-06 - val_mae: 0.0013\n",
      "Epoch 39/100\n",
      "12240/12240 [==============================] - 42s 3ms/step - loss: 2.1547e-05 - mae: 0.0015 - val_loss: 1.9076e-06 - val_mae: 0.0011\n",
      "Epoch 40/100\n",
      "12240/12240 [==============================] - 42s 3ms/step - loss: 2.1577e-05 - mae: 0.0015 - val_loss: 2.3477e-06 - val_mae: 0.0012\n",
      "Epoch 41/100\n",
      "12240/12240 [==============================] - 40s 3ms/step - loss: 2.1475e-05 - mae: 0.0015 - val_loss: 1.6631e-06 - val_mae: 0.0010\n",
      "Epoch 42/100\n",
      "12240/12240 [==============================] - 39s 3ms/step - loss: 2.1472e-05 - mae: 0.0015 - val_loss: 2.7630e-06 - val_mae: 0.0013\n",
      "Epoch 43/100\n",
      "12240/12240 [==============================] - 38s 3ms/step - loss: 2.1488e-05 - mae: 0.0015 - val_loss: 1.8867e-06 - val_mae: 0.0011\n",
      "Epoch 44/100\n",
      "12240/12240 [==============================] - 41s 3ms/step - loss: 2.1478e-05 - mae: 0.0015 - val_loss: 1.4892e-06 - val_mae: 9.1694e-04\n",
      "Epoch 45/100\n",
      "12240/12240 [==============================] - 41s 3ms/step - loss: 2.1465e-05 - mae: 0.0014 - val_loss: 2.3491e-06 - val_mae: 0.0012\n",
      "Epoch 46/100\n",
      "12240/12240 [==============================] - 41s 3ms/step - loss: 2.1466e-05 - mae: 0.0015 - val_loss: 2.7676e-06 - val_mae: 0.0013\n",
      "Epoch 47/100\n",
      "12240/12240 [==============================] - 41s 3ms/step - loss: 2.1443e-05 - mae: 0.0015 - val_loss: 1.6724e-06 - val_mae: 0.0010\n",
      "Epoch 48/100\n",
      "12240/12240 [==============================] - 41s 3ms/step - loss: 2.1407e-05 - mae: 0.0014 - val_loss: 1.7739e-06 - val_mae: 0.0011\n",
      "Epoch 49/100\n",
      "12240/12240 [==============================] - 41s 3ms/step - loss: 2.1446e-05 - mae: 0.0015 - val_loss: 1.7515e-06 - val_mae: 0.0011\n",
      "Epoch 50/100\n",
      "12240/12240 [==============================] - 43s 3ms/step - loss: 2.1437e-05 - mae: 0.0015 - val_loss: 2.7797e-06 - val_mae: 0.0014\n",
      "Epoch 51/100\n",
      "12240/12240 [==============================] - 42s 3ms/step - loss: 2.1457e-05 - mae: 0.0014 - val_loss: 1.8474e-06 - val_mae: 0.0011\n",
      "Epoch 52/100\n",
      "12240/12240 [==============================] - 41s 3ms/step - loss: 2.1396e-05 - mae: 0.0014 - val_loss: 1.7988e-06 - val_mae: 0.0011\n",
      "Epoch 53/100\n",
      "12240/12240 [==============================] - 40s 3ms/step - loss: 2.1449e-05 - mae: 0.0015 - val_loss: 1.7389e-06 - val_mae: 0.0011\n",
      "Epoch 54/100\n",
      "12240/12240 [==============================] - 41s 3ms/step - loss: 2.1403e-05 - mae: 0.0014 - val_loss: 1.8560e-06 - val_mae: 0.0011\n",
      "Epoch 55/100\n",
      "12240/12240 [==============================] - 40s 3ms/step - loss: 2.1427e-05 - mae: 0.0014 - val_loss: 1.6725e-06 - val_mae: 0.0010\n",
      "Epoch 56/100\n",
      "12240/12240 [==============================] - 42s 3ms/step - loss: 2.1354e-05 - mae: 0.0014 - val_loss: 4.0102e-06 - val_mae: 0.0016\n",
      "Epoch 57/100\n",
      "12240/12240 [==============================] - 44s 4ms/step - loss: 2.1406e-05 - mae: 0.0014 - val_loss: 1.5621e-06 - val_mae: 9.7997e-04\n",
      "Epoch 58/100\n",
      "12240/12240 [==============================] - 43s 4ms/step - loss: 2.1354e-05 - mae: 0.0014 - val_loss: 1.9127e-06 - val_mae: 0.0011\n",
      "Epoch 59/100\n",
      "12240/12240 [==============================] - 43s 3ms/step - loss: 2.1368e-05 - mae: 0.0014 - val_loss: 2.1534e-06 - val_mae: 0.0012\n",
      "Epoch 60/100\n",
      "12240/12240 [==============================] - 39s 3ms/step - loss: 2.1320e-05 - mae: 0.0014 - val_loss: 1.7625e-06 - val_mae: 0.0011\n",
      "Epoch 61/100\n",
      "12240/12240 [==============================] - 42s 3ms/step - loss: 2.1347e-05 - mae: 0.0014 - val_loss: 1.7336e-06 - val_mae: 0.0010\n",
      "Epoch 62/100\n",
      "12240/12240 [==============================] - 42s 3ms/step - loss: 2.1363e-05 - mae: 0.0014 - val_loss: 1.8557e-06 - val_mae: 0.0011\n",
      "Epoch 63/100\n",
      "12240/12240 [==============================] - 44s 4ms/step - loss: 2.1339e-05 - mae: 0.0014 - val_loss: 1.9744e-06 - val_mae: 0.0011\n",
      "Epoch 64/100\n",
      "12240/12240 [==============================] - 43s 4ms/step - loss: 2.1359e-05 - mae: 0.0014 - val_loss: 1.9652e-06 - val_mae: 0.0011\n",
      "Epoch 65/100\n",
      "12240/12240 [==============================] - 46s 4ms/step - loss: 2.1332e-05 - mae: 0.0014 - val_loss: 1.5223e-06 - val_mae: 9.5920e-04\n",
      "Epoch 66/100\n",
      "12240/12240 [==============================] - 45s 4ms/step - loss: 2.1309e-05 - mae: 0.0014 - val_loss: 1.5966e-06 - val_mae: 0.0010\n",
      "Epoch 67/100\n",
      "12240/12240 [==============================] - 44s 4ms/step - loss: 2.1341e-05 - mae: 0.0014 - val_loss: 1.6361e-06 - val_mae: 0.0010\n",
      "Epoch 68/100\n",
      "12240/12240 [==============================] - 44s 4ms/step - loss: 2.1317e-05 - mae: 0.0014 - val_loss: 1.8701e-06 - val_mae: 0.0011\n",
      "Epoch 69/100\n",
      "12240/12240 [==============================] - 43s 4ms/step - loss: 2.1341e-05 - mae: 0.0014 - val_loss: 1.7760e-06 - val_mae: 0.0011\n",
      "Epoch 70/100\n",
      "12240/12240 [==============================] - 45s 4ms/step - loss: 2.1317e-05 - mae: 0.0014 - val_loss: 2.2316e-06 - val_mae: 0.0012\n",
      "Epoch 71/100\n",
      "12240/12240 [==============================] - 46s 4ms/step - loss: 2.1321e-05 - mae: 0.0014 - val_loss: 2.0661e-06 - val_mae: 0.0012\n",
      "Epoch 72/100\n",
      "12240/12240 [==============================] - 46s 4ms/step - loss: 2.1298e-05 - mae: 0.0014 - val_loss: 1.6452e-06 - val_mae: 0.0010\n",
      "Epoch 73/100\n",
      "12240/12240 [==============================] - 46s 4ms/step - loss: 2.1259e-05 - mae: 0.0014 - val_loss: 1.8922e-06 - val_mae: 0.0011\n",
      "Epoch 74/100\n",
      "12240/12240 [==============================] - 48s 4ms/step - loss: 2.1307e-05 - mae: 0.0014 - val_loss: 1.8749e-06 - val_mae: 0.0011\n",
      "Epoch 75/100\n",
      "12240/12240 [==============================] - 47s 4ms/step - loss: 2.1307e-05 - mae: 0.0014 - val_loss: 1.6526e-06 - val_mae: 0.0010\n",
      "Epoch 76/100\n",
      "12240/12240 [==============================] - 47s 4ms/step - loss: 2.1299e-05 - mae: 0.0014 - val_loss: 1.9245e-06 - val_mae: 0.0011\n",
      "Epoch 77/100\n",
      "12240/12240 [==============================] - 44s 4ms/step - loss: 2.1287e-05 - mae: 0.0014 - val_loss: 1.6278e-06 - val_mae: 0.0010\n",
      "Epoch 78/100\n",
      "12240/12240 [==============================] - 42s 3ms/step - loss: 2.1289e-05 - mae: 0.0014 - val_loss: 2.1513e-06 - val_mae: 0.0012\n",
      "Epoch 79/100\n",
      "12240/12240 [==============================] - 42s 3ms/step - loss: 2.1290e-05 - mae: 0.0014 - val_loss: 1.8216e-06 - val_mae: 0.0011\n",
      "Epoch 80/100\n",
      "12240/12240 [==============================] - 35s 3ms/step - loss: 2.1289e-05 - mae: 0.0014 - val_loss: 1.6326e-06 - val_mae: 0.0010\n",
      "Epoch 81/100\n",
      "12240/12240 [==============================] - 38s 3ms/step - loss: 2.1280e-05 - mae: 0.0014 - val_loss: 1.7572e-06 - val_mae: 0.0011\n",
      "Epoch 82/100\n",
      "12240/12240 [==============================] - 44s 4ms/step - loss: 2.1283e-05 - mae: 0.0014 - val_loss: 1.9613e-06 - val_mae: 0.0011\n",
      "Epoch 83/100\n",
      "12240/12240 [==============================] - 58s 5ms/step - loss: 2.1279e-05 - mae: 0.0014 - val_loss: 1.4855e-06 - val_mae: 9.5398e-04\n",
      "Epoch 84/100\n",
      "12240/12240 [==============================] - 52s 4ms/step - loss: 2.1272e-05 - mae: 0.0014 - val_loss: 1.6637e-06 - val_mae: 0.0010\n",
      "Epoch 85/100\n",
      "12240/12240 [==============================] - 49s 4ms/step - loss: 2.1296e-05 - mae: 0.0014 - val_loss: 1.6934e-06 - val_mae: 0.0010\n",
      "Epoch 86/100\n",
      "12240/12240 [==============================] - 51s 4ms/step - loss: 2.1269e-05 - mae: 0.0014 - val_loss: 1.8062e-06 - val_mae: 0.0011\n",
      "Epoch 87/100\n",
      "12240/12240 [==============================] - 56s 5ms/step - loss: 2.1275e-05 - mae: 0.0014 - val_loss: 1.9547e-06 - val_mae: 0.0011\n",
      "Epoch 88/100\n",
      "12240/12240 [==============================] - 53s 4ms/step - loss: 2.1275e-05 - mae: 0.0014 - val_loss: 2.0888e-06 - val_mae: 0.0012\n",
      "Epoch 89/100\n",
      "12240/12240 [==============================] - 54s 4ms/step - loss: 2.1285e-05 - mae: 0.0014 - val_loss: 1.7132e-06 - val_mae: 0.0010\n",
      "Epoch 90/100\n",
      "12240/12240 [==============================] - 50s 4ms/step - loss: 2.1269e-05 - mae: 0.0014 - val_loss: 1.7614e-06 - val_mae: 0.0011\n",
      "Epoch 91/100\n",
      "12240/12240 [==============================] - 55s 4ms/step - loss: 2.1276e-05 - mae: 0.0014 - val_loss: 1.7851e-06 - val_mae: 0.0011\n",
      "Epoch 92/100\n",
      "12240/12240 [==============================] - 50s 4ms/step - loss: 2.1277e-05 - mae: 0.0014 - val_loss: 1.8171e-06 - val_mae: 0.0011\n",
      "Epoch 93/100\n",
      "12240/12240 [==============================] - 51s 4ms/step - loss: 2.1292e-05 - mae: 0.0014 - val_loss: 1.7493e-06 - val_mae: 0.0010\n",
      "Epoch 94/100\n",
      "12240/12240 [==============================] - 49s 4ms/step - loss: 2.1264e-05 - mae: 0.0014 - val_loss: 1.7726e-06 - val_mae: 0.0011\n",
      "Epoch 95/100\n",
      "12240/12240 [==============================] - 49s 4ms/step - loss: 2.1267e-05 - mae: 0.0014 - val_loss: 2.4814e-06 - val_mae: 0.0013\n",
      "Epoch 96/100\n",
      "12240/12240 [==============================] - 35s 3ms/step - loss: 2.1260e-05 - mae: 0.0014 - val_loss: 1.8706e-06 - val_mae: 0.0011\n",
      "Epoch 97/100\n",
      "12240/12240 [==============================] - 33s 3ms/step - loss: 2.1266e-05 - mae: 0.0014 - val_loss: 1.7364e-06 - val_mae: 0.0010\n",
      "Epoch 98/100\n",
      "12240/12240 [==============================] - 32s 3ms/step - loss: 2.1273e-05 - mae: 0.0014 - val_loss: 1.6368e-06 - val_mae: 0.0010\n",
      "Epoch 99/100\n",
      "12240/12240 [==============================] - 31s 3ms/step - loss: 2.1252e-05 - mae: 0.0014 - val_loss: 1.9439e-06 - val_mae: 0.0011\n",
      "Epoch 100/100\n",
      "12240/12240 [==============================] - 31s 2ms/step - loss: 2.1265e-05 - mae: 0.0014 - val_loss: 2.0835e-06 - val_mae: 0.0012\n"
     ]
    }
   ],
   "source": [
    "history = model.fit(\n",
    "    X_train, y_train,\n",
    "    epochs=100,\n",
    "    batch_size=8,\n",
    "    validation_split=0.2,\n",
    "    verbose=1,\n",
    ")"
   ]
  },
  {
   "cell_type": "code",
   "execution_count": 69,
   "id": "3202bbb8-3628-4958-8ad6-36aa739eb960",
   "metadata": {},
   "outputs": [
    {
     "name": "stdout",
     "output_type": "stream",
     "text": [
      "957/957 [==============================] - 2s 2ms/step\n"
     ]
    }
   ],
   "source": [
    "y_pred = model.predict(X_test)"
   ]
  },
  {
   "cell_type": "code",
   "execution_count": 70,
   "id": "32011223-4a7a-4c93-b6e0-4ee1e2758552",
   "metadata": {},
   "outputs": [],
   "source": [
    "y_test_orig = scaler_fwaterlevel.inverse_transform(y_test.reshape(-1, 1))\n",
    "y_pred_orig = scaler_fwaterlevel.inverse_transform(y_pred)"
   ]
  },
  {
   "cell_type": "code",
   "execution_count": 71,
   "id": "968b4d6b-48c1-4872-b418-3aa917a78a7a",
   "metadata": {},
   "outputs": [],
   "source": [
    "def nash_sutcliffe(y_true, y_pred):\n",
    "    numerator = np.sum((y_true - y_pred) ** 2)\n",
    "    denominator = np.sum((y_true - np.mean(y_true)) ** 2)\n",
    "    return 1 - (numerator / denominator)"
   ]
  },
  {
   "cell_type": "code",
   "execution_count": 72,
   "id": "2e32b82a-f022-49c4-bbba-e032751f2a45",
   "metadata": {},
   "outputs": [
    {
     "name": "stdout",
     "output_type": "stream",
     "text": [
      "\n",
      "Model Performance Metrics:\n",
      "Mean Absolute Error (MAE): 0.24710\n",
      "R² Score: 0.54\n",
      "Nash-Sutcliffe Efficiency (NSE): 0.54\n",
      "Mean Squared Error (MSE): 0.11653\n",
      "Root Mean Squared Error (RMSE): 0.34136\n"
     ]
    }
   ],
   "source": [
    "from sklearn.metrics import mean_squared_error\n",
    "\n",
    "mse = mean_squared_error(y_test_orig, y_pred_orig)\n",
    "rmse = np.sqrt(mse)\n",
    "\n",
    "mae = mean_absolute_error(y_test_orig, y_pred_orig)\n",
    "r2 = r2_score(y_test_orig, y_pred_orig)\n",
    "nse = nash_sutcliffe(y_test_orig, y_pred_orig)\n",
    "\n",
    "print(f\"\\nModel Performance Metrics:\")\n",
    "print(f\"Mean Absolute Error (MAE): {mae:.5f}\")\n",
    "print(f\"R² Score: {r2:.2f}\")\n",
    "print(f\"Nash-Sutcliffe Efficiency (NSE): {nse:.2f}\")\n",
    "print(f\"Mean Squared Error (MSE): {mse:.5f}\")\n",
    "print(f\"Root Mean Squared Error (RMSE): {rmse:.5f}\")"
   ]
  },
  {
   "cell_type": "code",
   "execution_count": 73,
   "id": "c0f5b0ee-57e4-4e2c-a6d0-7046c51706f0",
   "metadata": {},
   "outputs": [
    {
     "data": {
      "image/png": "[encoded data removed]",
      "text/plain": [
       "<Figure size 1000x500 with 1 Axes>"
      ]
     },
     "metadata": {},
     "output_type": "display_data"
    }
   ],
   "source": [
    "plt.figure(figsize=(10, 5))\n",
    "plt.plot(history.history['loss'], label='Training Loss', color='blue')\n",
    "plt.plot(history.history['val_loss'], label='Validation Loss', color='red')\n",
    "plt.xlabel('Epochs')\n",
    "plt.ylabel('Loss')\n",
    "plt.title('Loss Curve')\n",
    "plt.legend()\n",
    "plt.show()"
   ]
  },
  {
   "cell_type": "code",
   "execution_count": 74,
   "id": "0cd0078e-4aea-4021-bb72-22e9ecc7d814",
   "metadata": {},
   "outputs": [
    {
     "name": "stdout",
     "output_type": "stream",
     "text": [
      "\n",
      "Predictions vs Actual Values:\n",
      "Prediction: -0.928, Actual: -1.410\n",
      "Prediction: -0.907, Actual: -1.240\n",
      "Prediction: -0.753, Actual: -1.020\n",
      "Prediction: -0.660, Actual: -0.790\n",
      "Prediction: -0.672, Actual: -0.670\n",
      "Prediction: -0.743, Actual: -0.720\n",
      "Prediction: -0.728, Actual: -0.970\n",
      "Prediction: -0.791, Actual: -1.290\n",
      "Prediction: -0.931, Actual: -1.400\n",
      "Prediction: -0.946, Actual: -1.430\n",
      "Prediction: -0.931, Actual: -1.450\n",
      "Prediction: -0.899, Actual: -1.460\n",
      "Prediction: -0.835, Actual: -1.470\n",
      "Prediction: -0.732, Actual: -1.470\n",
      "Prediction: -0.624, Actual: -1.470\n",
      "Prediction: -0.528, Actual: -1.200\n",
      "Prediction: -0.513, Actual: -0.930\n",
      "Prediction: -0.567, Actual: -0.840\n",
      "Prediction: -0.729, Actual: -0.860\n",
      "Prediction: -0.913, Actual: -0.970\n"
     ]
    }
   ],
   "source": [
    "# Print predictions vs actual values\n",
    "print(\"\\nPredictions vs Actual Values:\")\n",
    "for i in range(min(20, len(y_pred_orig))):  # Print first 20\n",
    "    print(f\"Prediction: {y_pred_orig[i][0]:.3f}, Actual: {y_test_orig[i][0]:.3f}\")"
   ]
  },
  {
   "cell_type": "code",
   "execution_count": 75,
   "id": "19767e17-0db3-482e-a49f-008267302012",
   "metadata": {},
   "outputs": [
    {
     "name": "stderr",
     "output_type": "stream",
     "text": [
      "c:\\users\\mj\\appdata\\local\\programs\\python\\python39\\lib\\site-packages\\keras\\src\\engine\\training.py:3000: UserWarning: You are saving your model as an HDF5 file via `model.save()`. This file format is considered legacy. We recommend using instead the native Keras format, e.g. `model.save('my_model.keras')`.\n",
      "  saving_api.save_model(\n"
     ]
    }
   ],
   "source": [
    "model.save('flows_modelv2.h5')"
   ]
  },
  {
   "cell_type": "code",
   "execution_count": null,
   "id": "e92b6288-8e82-43a9-ad82-a652ab09a4f0",
   "metadata": {},
   "outputs": [],
   "source": []
  }
 ],
 "metadata": {
  "kernelspec": {
   "display_name": "Python 3 (ipykernel)",
   "language": "python",
   "name": "python3"
  },
  "language_info": {
   "codemirror_mode": {
    "name": "ipython",
    "version": 3
   },
   "file_extension": ".py",
   "mimetype": "text/x-python",
   "name": "python",
   "nbconvert_exporter": "python",
   "pygments_lexer": "ipython3",
   "version": "3.9.2"
  }
 },
 "nbformat": 4,
 "nbformat_minor": 5
}

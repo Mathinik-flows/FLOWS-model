{
 "cells": [
  {
   "cell_type": "markdown",
   "id": "bfebb9ca-1b51-41ab-a805-c9983fd9d8f3",
   "metadata": {},
   "source": [
    "<h1>MODEL CLEANER VERSION</h1>"
   ]
  },
  {
   "cell_type": "code",
   "execution_count": 3,
   "id": "7c65c9ef-6604-44b9-a8b8-829280299da8",
   "metadata": {},
   "outputs": [],
   "source": [
    "import numpy as np\n",
    "import pandas as pd\n",
    "from sklearn.preprocessing import MinMaxScaler\n",
    "from sklearn.model_selection import train_test_split\n",
    "from tensorflow.keras.models import Sequential\n",
    "from tensorflow.keras.layers import Dense\n",
    "from tensorflow.keras.callbacks import EarlyStopping\n",
    "import matplotlib.pyplot as plt\n",
    "from sklearn.metrics import mean_absolute_error, r2_score"
   ]
  },
  {
   "cell_type": "code",
   "execution_count": 2,
   "id": "20246af4-5e1b-45fa-b45b-219680de0627",
   "metadata": {},
   "outputs": [],
   "source": [
    "finaldata = pd.read_csv(\"finaldata2.csv\")"
   ]
  },
  {
   "cell_type": "code",
   "execution_count": 4,
   "id": "ef880546-81b0-4fd5-bbf4-5d56ffbeb185",
   "metadata": {},
   "outputs": [],
   "source": [
    "rainfall = finaldata['Rainfall'].values\n",
    "waterlevel = finaldata['WaterLevel'].values\n",
    "fwaterlevel = finaldata['FWaterLevel'].values"
   ]
  },
  {
   "cell_type": "code",
   "execution_count": 5,
   "id": "a5824c53-2478-478c-a808-fb5f2f29497a",
   "metadata": {},
   "outputs": [],
   "source": [
    "scaler_rainfall = MinMaxScaler()\n",
    "scaler_waterlevel = MinMaxScaler()\n",
    "scaler_fwaterlevel = MinMaxScaler()\n",
    "rainfall_scaled = scaler_rainfall.fit_transform(rainfall.reshape(-1, 1))\n",
    "waterlevel_scaled = scaler_waterlevel.fit_transform(waterlevel.reshape(-1, 1))\n",
    "fwaterlevel_scaled = scaler_fwaterlevel.fit_transform(fwaterlevel.reshape(-1, 1))"
   ]
  },
  {
   "cell_type": "code",
   "execution_count": 6,
   "id": "e06b0e30-de8b-41fc-9fc2-857421f130c2",
   "metadata": {},
   "outputs": [],
   "source": [
    "def create_narx_dataset(waterlevel, rainfall, fwaterlevel, n_y, n_u):\n",
    "    X, y = [], []\n",
    "    for i in range(len(waterlevel) - max(n_y, n_u)):\n",
    "        y_input = waterlevel[i:i+n_y].flatten()\n",
    "        u_input = rainfall[i:i+n_u].flatten()\n",
    "        X.append(np.concatenate((y_input, u_input)))\n",
    "        y.append(fwaterlevel[i+n_y])\n",
    "    return np.array(X), np.array(y)\n",
    "\n",
    "n_y = 6\n",
    "n_u = 6\n",
    "X, y = create_narx_dataset(waterlevel_scaled, rainfall_scaled, fwaterlevel_scaled, n_y, n_u)"
   ]
  },
  {
   "cell_type": "code",
   "execution_count": 7,
   "id": "30ed25f6-09eb-4ece-979d-6195881c535f",
   "metadata": {},
   "outputs": [],
   "source": [
    "X_train, X_test, y_train, y_test = train_test_split(X, y, test_size=0.2, shuffle=False)"
   ]
  },
  {
   "cell_type": "code",
   "execution_count": 24,
   "id": "410b3f89-fbe3-441b-b330-7fbfb2f1cad2",
   "metadata": {},
   "outputs": [],
   "source": [
    "model = Sequential()\n",
    "model.add(Dense(64, input_dim=n_y + n_u, activation='tanh'))\n",
    "model.add(Dense(64, activation='tanh'))\n",
    "model.add(Dense(32, activation='tanh'))\n",
    "model.add(Dense(1, activation='linear'))"
   ]
  },
  {
   "cell_type": "code",
   "execution_count": 26,
   "id": "7e4721a6-a1fe-4d9f-9c09-cd5e507cc309",
   "metadata": {},
   "outputs": [],
   "source": [
    "model.compile(optimizer='adam', loss='mse', metrics=['mae'])"
   ]
  },
  {
   "cell_type": "code",
   "execution_count": null,
   "id": "1c2d33db-ba62-4404-b979-16942e0655d6",
   "metadata": {},
   "outputs": [],
   "source": [
    "early_stopping = EarlyStopping(\n",
    "    monitor='val_loss',\n",
    "    patience=10,\n",
    "    restore_best_weights=True\n",
    ")"
   ]
  },
  {
   "cell_type": "code",
   "execution_count": 27,
   "id": "ceb29817-4a03-488b-a0e5-a1f8a0ccac21",
   "metadata": {},
   "outputs": [
    {
     "name": "stdout",
     "output_type": "stream",
     "text": [
      "Epoch 1/100\n",
      "12240/12240 [==============================] - 24s 2ms/step - loss: 3.2244e-05 - mae: 0.0023 - val_loss: 2.6172e-06 - val_mae: 0.0013\n",
      "Epoch 2/100\n",
      "12240/12240 [==============================] - 24s 2ms/step - loss: 2.3913e-05 - mae: 0.0018 - val_loss: 2.1384e-06 - val_mae: 0.0012\n",
      "Epoch 3/100\n",
      "12240/12240 [==============================] - 29s 2ms/step - loss: 2.2734e-05 - mae: 0.0017 - val_loss: 3.9790e-06 - val_mae: 0.0016\n",
      "Epoch 4/100\n",
      "12240/12240 [==============================] - 29s 2ms/step - loss: 2.2822e-05 - mae: 0.0017 - val_loss: 2.7895e-06 - val_mae: 0.0013\n",
      "Epoch 5/100\n",
      "12240/12240 [==============================] - 26s 2ms/step - loss: 2.2612e-05 - mae: 0.0017 - val_loss: 1.8130e-06 - val_mae: 0.0011\n",
      "Epoch 6/100\n",
      "12240/12240 [==============================] - 26s 2ms/step - loss: 2.2819e-05 - mae: 0.0017 - val_loss: 2.1605e-06 - val_mae: 0.0012\n",
      "Epoch 7/100\n",
      "12240/12240 [==============================] - 24s 2ms/step - loss: 2.2384e-05 - mae: 0.0016 - val_loss: 1.5631e-06 - val_mae: 9.6974e-04\n",
      "Epoch 8/100\n",
      "12240/12240 [==============================] - 32s 3ms/step - loss: 2.2425e-05 - mae: 0.0016 - val_loss: 1.7510e-06 - val_mae: 0.0010\n",
      "Epoch 9/100\n",
      "12240/12240 [==============================] - 29s 2ms/step - loss: 2.2322e-05 - mae: 0.0016 - val_loss: 2.5276e-06 - val_mae: 0.0013\n",
      "Epoch 10/100\n",
      "12240/12240 [==============================] - 25s 2ms/step - loss: 2.2075e-05 - mae: 0.0016 - val_loss: 1.9974e-06 - val_mae: 0.0011\n",
      "Epoch 11/100\n",
      "12240/12240 [==============================] - 30s 2ms/step - loss: 2.1900e-05 - mae: 0.0016 - val_loss: 1.8695e-06 - val_mae: 0.0011\n",
      "Epoch 12/100\n",
      "12240/12240 [==============================] - 27s 2ms/step - loss: 2.1962e-05 - mae: 0.0016 - val_loss: 2.0992e-06 - val_mae: 0.0011\n",
      "Epoch 13/100\n",
      "12240/12240 [==============================] - 26s 2ms/step - loss: 2.1846e-05 - mae: 0.0016 - val_loss: 1.9315e-06 - val_mae: 0.0011\n",
      "Epoch 14/100\n",
      "12240/12240 [==============================] - 26s 2ms/step - loss: 2.1850e-05 - mae: 0.0016 - val_loss: 2.0845e-06 - val_mae: 0.0011\n",
      "Epoch 15/100\n",
      "12240/12240 [==============================] - 26s 2ms/step - loss: 2.1956e-05 - mae: 0.0016 - val_loss: 1.6423e-06 - val_mae: 0.0010\n",
      "Epoch 16/100\n",
      "12240/12240 [==============================] - 26s 2ms/step - loss: 2.1909e-05 - mae: 0.0016 - val_loss: 2.8216e-06 - val_mae: 0.0013\n",
      "Epoch 17/100\n",
      "12240/12240 [==============================] - 25s 2ms/step - loss: 2.1839e-05 - mae: 0.0016 - val_loss: 1.9848e-06 - val_mae: 0.0011\n",
      "Epoch 18/100\n",
      "12240/12240 [==============================] - 25s 2ms/step - loss: 2.1816e-05 - mae: 0.0016 - val_loss: 1.7113e-06 - val_mae: 0.0010\n",
      "Epoch 19/100\n",
      "12240/12240 [==============================] - 26s 2ms/step - loss: 2.1761e-05 - mae: 0.0015 - val_loss: 2.4947e-06 - val_mae: 0.0013\n",
      "Epoch 20/100\n",
      "12240/12240 [==============================] - 25s 2ms/step - loss: 2.1752e-05 - mae: 0.0016 - val_loss: 2.0253e-06 - val_mae: 0.0011\n",
      "Epoch 21/100\n",
      "12240/12240 [==============================] - 26s 2ms/step - loss: 2.1832e-05 - mae: 0.0015 - val_loss: 2.3764e-06 - val_mae: 0.0012\n",
      "Epoch 22/100\n",
      "12240/12240 [==============================] - 27s 2ms/step - loss: 2.1857e-05 - mae: 0.0016 - val_loss: 2.1444e-06 - val_mae: 0.0012\n",
      "Epoch 23/100\n",
      "12240/12240 [==============================] - 25s 2ms/step - loss: 2.1845e-05 - mae: 0.0015 - val_loss: 2.1316e-06 - val_mae: 0.0012\n",
      "Epoch 24/100\n",
      "12240/12240 [==============================] - 26s 2ms/step - loss: 2.1757e-05 - mae: 0.0016 - val_loss: 2.4051e-06 - val_mae: 0.0012\n",
      "Epoch 25/100\n",
      "12240/12240 [==============================] - 26s 2ms/step - loss: 2.1788e-05 - mae: 0.0016 - val_loss: 2.5442e-06 - val_mae: 0.0012\n",
      "Epoch 26/100\n",
      "12240/12240 [==============================] - 27s 2ms/step - loss: 2.1790e-05 - mae: 0.0016 - val_loss: 4.1360e-06 - val_mae: 0.0016\n",
      "Epoch 27/100\n",
      "12240/12240 [==============================] - 28s 2ms/step - loss: 2.1796e-05 - mae: 0.0016 - val_loss: 2.5722e-06 - val_mae: 0.0013\n",
      "Epoch 28/100\n",
      "12240/12240 [==============================] - 26s 2ms/step - loss: 2.1794e-05 - mae: 0.0015 - val_loss: 2.4087e-06 - val_mae: 0.0012\n",
      "Epoch 29/100\n",
      "12240/12240 [==============================] - 28s 2ms/step - loss: 2.1795e-05 - mae: 0.0016 - val_loss: 2.0869e-06 - val_mae: 0.0011\n",
      "Epoch 30/100\n",
      "12240/12240 [==============================] - 26s 2ms/step - loss: 2.1692e-05 - mae: 0.0015 - val_loss: 2.3832e-06 - val_mae: 0.0012\n",
      "Epoch 31/100\n",
      "12240/12240 [==============================] - 26s 2ms/step - loss: 2.1902e-05 - mae: 0.0016 - val_loss: 3.5916e-06 - val_mae: 0.0015\n",
      "Epoch 32/100\n",
      "12240/12240 [==============================] - 25s 2ms/step - loss: 2.1801e-05 - mae: 0.0015 - val_loss: 2.0806e-06 - val_mae: 0.0011\n",
      "Epoch 33/100\n",
      "12240/12240 [==============================] - 26s 2ms/step - loss: 2.1789e-05 - mae: 0.0016 - val_loss: 5.1320e-06 - val_mae: 0.0019\n",
      "Epoch 34/100\n",
      "12240/12240 [==============================] - 26s 2ms/step - loss: 2.1849e-05 - mae: 0.0015 - val_loss: 1.9762e-06 - val_mae: 0.0011\n",
      "Epoch 35/100\n",
      "12240/12240 [==============================] - 26s 2ms/step - loss: 2.1741e-05 - mae: 0.0015 - val_loss: 3.7484e-06 - val_mae: 0.0016\n",
      "Epoch 36/100\n",
      "12240/12240 [==============================] - 26s 2ms/step - loss: 2.1829e-05 - mae: 0.0015 - val_loss: 2.8645e-06 - val_mae: 0.0014\n",
      "Epoch 37/100\n",
      "12240/12240 [==============================] - 26s 2ms/step - loss: 2.1813e-05 - mae: 0.0016 - val_loss: 2.5606e-06 - val_mae: 0.0013\n",
      "Epoch 38/100\n",
      "12240/12240 [==============================] - 26s 2ms/step - loss: 2.1730e-05 - mae: 0.0015 - val_loss: 2.0760e-06 - val_mae: 0.0011\n",
      "Epoch 39/100\n",
      "12240/12240 [==============================] - 26s 2ms/step - loss: 2.1793e-05 - mae: 0.0016 - val_loss: 2.3839e-06 - val_mae: 0.0012\n",
      "Epoch 40/100\n",
      "12240/12240 [==============================] - 26s 2ms/step - loss: 2.1706e-05 - mae: 0.0015 - val_loss: 5.3746e-06 - val_mae: 0.0019\n",
      "Epoch 41/100\n",
      "12240/12240 [==============================] - 26s 2ms/step - loss: 2.1755e-05 - mae: 0.0015 - val_loss: 3.0543e-06 - val_mae: 0.0014\n",
      "Epoch 42/100\n",
      "12240/12240 [==============================] - 26s 2ms/step - loss: 2.1791e-05 - mae: 0.0015 - val_loss: 1.9832e-06 - val_mae: 0.0011\n",
      "Epoch 43/100\n",
      "12240/12240 [==============================] - 27s 2ms/step - loss: 2.1745e-05 - mae: 0.0016 - val_loss: 2.4549e-06 - val_mae: 0.0013\n",
      "Epoch 44/100\n",
      "12240/12240 [==============================] - 26s 2ms/step - loss: 2.1782e-05 - mae: 0.0015 - val_loss: 1.6430e-06 - val_mae: 0.0010\n",
      "Epoch 45/100\n",
      "12240/12240 [==============================] - 26s 2ms/step - loss: 2.1820e-05 - mae: 0.0015 - val_loss: 2.6307e-06 - val_mae: 0.0013\n",
      "Epoch 46/100\n",
      "12240/12240 [==============================] - 26s 2ms/step - loss: 2.1742e-05 - mae: 0.0015 - val_loss: 3.0431e-06 - val_mae: 0.0014\n",
      "Epoch 47/100\n",
      "12240/12240 [==============================] - 27s 2ms/step - loss: 2.1699e-05 - mae: 0.0015 - val_loss: 2.6322e-06 - val_mae: 0.0013\n",
      "Epoch 48/100\n",
      "12240/12240 [==============================] - 26s 2ms/step - loss: 2.1842e-05 - mae: 0.0016 - val_loss: 2.0261e-06 - val_mae: 0.0011\n",
      "Epoch 49/100\n",
      "12240/12240 [==============================] - 26s 2ms/step - loss: 2.1803e-05 - mae: 0.0015 - val_loss: 2.2564e-06 - val_mae: 0.0012\n",
      "Epoch 50/100\n",
      "12240/12240 [==============================] - 26s 2ms/step - loss: 2.1745e-05 - mae: 0.0015 - val_loss: 1.9583e-06 - val_mae: 0.0011\n",
      "Epoch 51/100\n",
      "12240/12240 [==============================] - 26s 2ms/step - loss: 2.1750e-05 - mae: 0.0015 - val_loss: 6.2742e-06 - val_mae: 0.0020\n",
      "Epoch 52/100\n",
      "12240/12240 [==============================] - 26s 2ms/step - loss: 2.1750e-05 - mae: 0.0015 - val_loss: 2.0806e-06 - val_mae: 0.0011\n",
      "Epoch 53/100\n",
      "12240/12240 [==============================] - 26s 2ms/step - loss: 2.1812e-05 - mae: 0.0016 - val_loss: 2.8979e-06 - val_mae: 0.0013\n",
      "Epoch 54/100\n",
      "12240/12240 [==============================] - 26s 2ms/step - loss: 2.1795e-05 - mae: 0.0015 - val_loss: 2.2897e-06 - val_mae: 0.0012\n",
      "Epoch 55/100\n",
      "12240/12240 [==============================] - 26s 2ms/step - loss: 2.1723e-05 - mae: 0.0015 - val_loss: 1.8563e-06 - val_mae: 0.0011\n",
      "Epoch 56/100\n",
      "12240/12240 [==============================] - 26s 2ms/step - loss: 2.1787e-05 - mae: 0.0015 - val_loss: 2.8506e-06 - val_mae: 0.0013\n",
      "Epoch 57/100\n",
      "12240/12240 [==============================] - 26s 2ms/step - loss: 2.1777e-05 - mae: 0.0015 - val_loss: 3.1168e-06 - val_mae: 0.0014\n",
      "Epoch 58/100\n",
      "12240/12240 [==============================] - 26s 2ms/step - loss: 2.1769e-05 - mae: 0.0015 - val_loss: 2.3848e-06 - val_mae: 0.0012\n",
      "Epoch 59/100\n",
      "12240/12240 [==============================] - 27s 2ms/step - loss: 2.1802e-05 - mae: 0.0016 - val_loss: 2.2439e-06 - val_mae: 0.0012\n",
      "Epoch 60/100\n",
      "12240/12240 [==============================] - 26s 2ms/step - loss: 2.1697e-05 - mae: 0.0015 - val_loss: 2.8081e-06 - val_mae: 0.0013\n",
      "Epoch 61/100\n",
      "12240/12240 [==============================] - 26s 2ms/step - loss: 2.1703e-05 - mae: 0.0015 - val_loss: 4.2389e-06 - val_mae: 0.0017\n",
      "Epoch 62/100\n",
      "12240/12240 [==============================] - 26s 2ms/step - loss: 2.1743e-05 - mae: 0.0015 - val_loss: 3.1260e-06 - val_mae: 0.0014\n",
      "Epoch 63/100\n",
      "12240/12240 [==============================] - 26s 2ms/step - loss: 2.1776e-05 - mae: 0.0015 - val_loss: 2.6466e-06 - val_mae: 0.0013\n",
      "Epoch 64/100\n",
      "12240/12240 [==============================] - 26s 2ms/step - loss: 2.1661e-05 - mae: 0.0015 - val_loss: 3.3615e-06 - val_mae: 0.0015\n",
      "Epoch 65/100\n",
      "12240/12240 [==============================] - 26s 2ms/step - loss: 2.1750e-05 - mae: 0.0015 - val_loss: 2.6788e-06 - val_mae: 0.0013\n",
      "Epoch 66/100\n",
      "12240/12240 [==============================] - 26s 2ms/step - loss: 2.1750e-05 - mae: 0.0015 - val_loss: 2.0036e-06 - val_mae: 0.0011\n",
      "Epoch 67/100\n",
      "12240/12240 [==============================] - 26s 2ms/step - loss: 2.1753e-05 - mae: 0.0015 - val_loss: 2.1991e-06 - val_mae: 0.0012\n",
      "Epoch 68/100\n",
      "12240/12240 [==============================] - 26s 2ms/step - loss: 2.1802e-05 - mae: 0.0015 - val_loss: 2.4053e-06 - val_mae: 0.0012\n",
      "Epoch 69/100\n",
      "12240/12240 [==============================] - 27s 2ms/step - loss: 2.1746e-05 - mae: 0.0015 - val_loss: 2.0106e-06 - val_mae: 0.0011\n",
      "Epoch 70/100\n",
      "12240/12240 [==============================] - 28s 2ms/step - loss: 2.1829e-05 - mae: 0.0015 - val_loss: 2.1582e-06 - val_mae: 0.0012\n",
      "Epoch 71/100\n",
      "12240/12240 [==============================] - 27s 2ms/step - loss: 2.1799e-05 - mae: 0.0015 - val_loss: 3.1759e-06 - val_mae: 0.0014\n",
      "Epoch 72/100\n",
      "12240/12240 [==============================] - 26s 2ms/step - loss: 2.1727e-05 - mae: 0.0015 - val_loss: 2.3391e-06 - val_mae: 0.0012\n",
      "Epoch 73/100\n",
      "12240/12240 [==============================] - 27s 2ms/step - loss: 2.1864e-05 - mae: 0.0015 - val_loss: 2.0726e-06 - val_mae: 0.0011\n",
      "Epoch 74/100\n",
      "12240/12240 [==============================] - 32s 3ms/step - loss: 2.1786e-05 - mae: 0.0015 - val_loss: 2.8554e-06 - val_mae: 0.0013\n",
      "Epoch 75/100\n",
      "12240/12240 [==============================] - 29s 2ms/step - loss: 2.1728e-05 - mae: 0.0015 - val_loss: 1.8917e-06 - val_mae: 0.0011\n",
      "Epoch 76/100\n",
      "12240/12240 [==============================] - 27s 2ms/step - loss: 2.1774e-05 - mae: 0.0015 - val_loss: 2.8038e-06 - val_mae: 0.0013\n",
      "Epoch 77/100\n",
      "12240/12240 [==============================] - 27s 2ms/step - loss: 2.1807e-05 - mae: 0.0015 - val_loss: 1.8848e-06 - val_mae: 0.0011\n",
      "Epoch 78/100\n",
      "12240/12240 [==============================] - 27s 2ms/step - loss: 2.1775e-05 - mae: 0.0015 - val_loss: 2.3379e-06 - val_mae: 0.0012\n",
      "Epoch 79/100\n",
      "12240/12240 [==============================] - 25s 2ms/step - loss: 2.1755e-05 - mae: 0.0016 - val_loss: 3.0998e-06 - val_mae: 0.0014\n",
      "Epoch 80/100\n",
      "12240/12240 [==============================] - 27s 2ms/step - loss: 2.1861e-05 - mae: 0.0015 - val_loss: 2.6875e-06 - val_mae: 0.0013\n",
      "Epoch 81/100\n",
      "12240/12240 [==============================] - 27s 2ms/step - loss: 2.1747e-05 - mae: 0.0015 - val_loss: 2.9940e-06 - val_mae: 0.0014\n",
      "Epoch 82/100\n",
      "12240/12240 [==============================] - 24s 2ms/step - loss: 2.1804e-05 - mae: 0.0015 - val_loss: 3.5912e-06 - val_mae: 0.0015\n",
      "Epoch 83/100\n",
      "12240/12240 [==============================] - 26s 2ms/step - loss: 2.1738e-05 - mae: 0.0015 - val_loss: 2.0228e-06 - val_mae: 0.0011\n",
      "Epoch 84/100\n",
      "12240/12240 [==============================] - 27s 2ms/step - loss: 2.1712e-05 - mae: 0.0015 - val_loss: 1.8162e-06 - val_mae: 0.0011\n",
      "Epoch 85/100\n",
      "12240/12240 [==============================] - 29s 2ms/step - loss: 2.1818e-05 - mae: 0.0015 - val_loss: 2.7169e-06 - val_mae: 0.0013\n",
      "Epoch 86/100\n",
      "12240/12240 [==============================] - 35s 3ms/step - loss: 2.1769e-05 - mae: 0.0015 - val_loss: 2.0112e-06 - val_mae: 0.0011\n",
      "Epoch 87/100\n",
      "12240/12240 [==============================] - 38s 3ms/step - loss: 2.1834e-05 - mae: 0.0015 - val_loss: 3.0196e-06 - val_mae: 0.0014\n",
      "Epoch 88/100\n",
      "12240/12240 [==============================] - 36s 3ms/step - loss: 2.1833e-05 - mae: 0.0015 - val_loss: 2.2244e-06 - val_mae: 0.0012\n",
      "Epoch 89/100\n",
      "12240/12240 [==============================] - 37s 3ms/step - loss: 2.1822e-05 - mae: 0.0015 - val_loss: 1.8950e-06 - val_mae: 0.0011\n",
      "Epoch 90/100\n",
      "12240/12240 [==============================] - 36s 3ms/step - loss: 2.1772e-05 - mae: 0.0015 - val_loss: 2.2726e-06 - val_mae: 0.0012\n",
      "Epoch 91/100\n",
      "12240/12240 [==============================] - 43s 3ms/step - loss: 2.1724e-05 - mae: 0.0015 - val_loss: 2.9495e-06 - val_mae: 0.0014\n",
      "Epoch 92/100\n",
      "12240/12240 [==============================] - 43s 4ms/step - loss: 2.1816e-05 - mae: 0.0015 - val_loss: 2.7851e-06 - val_mae: 0.0013\n",
      "Epoch 93/100\n",
      "12240/12240 [==============================] - 44s 4ms/step - loss: 2.1828e-05 - mae: 0.0015 - val_loss: 5.2580e-06 - val_mae: 0.0019\n",
      "Epoch 94/100\n",
      "12240/12240 [==============================] - 43s 4ms/step - loss: 2.1719e-05 - mae: 0.0015 - val_loss: 2.3003e-06 - val_mae: 0.0012\n",
      "Epoch 95/100\n",
      "12240/12240 [==============================] - 47s 4ms/step - loss: 2.1806e-05 - mae: 0.0015 - val_loss: 2.0785e-06 - val_mae: 0.0011\n",
      "Epoch 96/100\n",
      "12240/12240 [==============================] - 47s 4ms/step - loss: 2.1670e-05 - mae: 0.0015 - val_loss: 3.3585e-06 - val_mae: 0.0015\n",
      "Epoch 97/100\n",
      "12240/12240 [==============================] - 48s 4ms/step - loss: 2.1843e-05 - mae: 0.0016 - val_loss: 2.9899e-06 - val_mae: 0.0014\n",
      "Epoch 98/100\n",
      "12240/12240 [==============================] - 42s 3ms/step - loss: 2.1820e-05 - mae: 0.0016 - val_loss: 2.1435e-06 - val_mae: 0.0011\n",
      "Epoch 99/100\n",
      "12240/12240 [==============================] - 42s 3ms/step - loss: 2.1745e-05 - mae: 0.0015 - val_loss: 2.2743e-06 - val_mae: 0.0012\n",
      "Epoch 100/100\n",
      "12240/12240 [==============================] - 43s 4ms/step - loss: 2.1758e-05 - mae: 0.0016 - val_loss: 2.4381e-06 - val_mae: 0.0012\n"
     ]
    }
   ],
   "source": [
    "history = model.fit(\n",
    "    X_train, y_train,\n",
    "    epochs=100,\n",
    "    batch_size=8,\n",
    "    validation_split=0.2,\n",
    "    verbose=1,\n",
    ")"
   ]
  },
  {
   "cell_type": "code",
   "execution_count": 28,
   "id": "3202bbb8-3628-4958-8ad6-36aa739eb960",
   "metadata": {},
   "outputs": [
    {
     "name": "stdout",
     "output_type": "stream",
     "text": [
      "957/957 [==============================] - 3s 3ms/step\n"
     ]
    }
   ],
   "source": [
    "y_pred = model.predict(X_test)"
   ]
  },
  {
   "cell_type": "code",
   "execution_count": 29,
   "id": "32011223-4a7a-4c93-b6e0-4ee1e2758552",
   "metadata": {},
   "outputs": [],
   "source": [
    "y_test_orig = scaler_fwaterlevel.inverse_transform(y_test.reshape(-1, 1))\n",
    "y_pred_orig = scaler_fwaterlevel.inverse_transform(y_pred)"
   ]
  },
  {
   "cell_type": "code",
   "execution_count": 30,
   "id": "968b4d6b-48c1-4872-b418-3aa917a78a7a",
   "metadata": {},
   "outputs": [],
   "source": [
    "def nash_sutcliffe(y_true, y_pred):\n",
    "    numerator = np.sum((y_true - y_pred) ** 2)\n",
    "    denominator = np.sum((y_true - np.mean(y_true)) ** 2)\n",
    "    return 1 - (numerator / denominator)"
   ]
  },
  {
   "cell_type": "code",
   "execution_count": 31,
   "id": "2e32b82a-f022-49c4-bbba-e032751f2a45",
   "metadata": {},
   "outputs": [
    {
     "name": "stdout",
     "output_type": "stream",
     "text": [
      "\n",
      "Model Performance Metrics:\n",
      "Mean Absolute Error (MAE): 0.23256\n",
      "R² Score: 0.54\n",
      "Nash-Sutcliffe Efficiency (NSE): 0.54\n",
      "Mean Squared Error (MSE): 0.11609\n",
      "Root Mean Squared Error (RMSE): 0.34072\n"
     ]
    }
   ],
   "source": [
    "from sklearn.metrics import mean_squared_error\n",
    "\n",
    "mse = mean_squared_error(y_test_orig, y_pred_orig)\n",
    "rmse = np.sqrt(mse)\n",
    "\n",
    "mae = mean_absolute_error(y_test_orig, y_pred_orig)\n",
    "r2 = r2_score(y_test_orig, y_pred_orig)\n",
    "nse = nash_sutcliffe(y_test_orig, y_pred_orig)\n",
    "\n",
    "print(f\"\\nModel Performance Metrics:\")\n",
    "print(f\"Mean Absolute Error (MAE): {mae:.5f}\")\n",
    "print(f\"R² Score: {r2:.2f}\")\n",
    "print(f\"Nash-Sutcliffe Efficiency (NSE): {nse:.2f}\")\n",
    "print(f\"Mean Squared Error (MSE): {mse:.5f}\")\n",
    "print(f\"Root Mean Squared Error (RMSE): {rmse:.5f}\")"
   ]
  },
  {
   "cell_type": "code",
   "execution_count": 32,
   "id": "c0f5b0ee-57e4-4e2c-a6d0-7046c51706f0",
   "metadata": {},
   "outputs": [
    {
     "data": {
      "image/png": "[encoded data removed]",
      "text/plain": [
       "<Figure size 1000x500 with 1 Axes>"
      ]
     },
     "metadata": {},
     "output_type": "display_data"
    }
   ],
   "source": [
    "plt.figure(figsize=(10, 5))\n",
    "plt.plot(history.history['loss'], label='Training Loss', color='blue')\n",
    "plt.plot(history.history['val_loss'], label='Validation Loss', color='red')\n",
    "plt.xlabel('Epochs')\n",
    "plt.ylabel('Loss')\n",
    "plt.title('Loss Curve')\n",
    "plt.legend()\n",
    "plt.show()"
   ]
  },
  {
   "cell_type": "code",
   "execution_count": 33,
   "id": "0cd0078e-4aea-4021-bb72-22e9ecc7d814",
   "metadata": {},
   "outputs": [
    {
     "name": "stdout",
     "output_type": "stream",
     "text": [
      "\n",
      "Predictions vs Actual Values:\n",
      "Prediction: -0.718, Actual: -1.410\n",
      "Prediction: -0.701, Actual: -1.240\n",
      "Prediction: -0.610, Actual: -1.020\n",
      "Prediction: -0.556, Actual: -0.790\n",
      "Prediction: -0.567, Actual: -0.670\n",
      "Prediction: -0.613, Actual: -0.720\n",
      "Prediction: -0.609, Actual: -0.970\n",
      "Prediction: -0.651, Actual: -1.290\n",
      "Prediction: -0.729, Actual: -1.400\n",
      "Prediction: -0.735, Actual: -1.430\n",
      "Prediction: -0.722, Actual: -1.450\n",
      "Prediction: -0.698, Actual: -1.460\n",
      "Prediction: -0.655, Actual: -1.470\n",
      "Prediction: -0.589, Actual: -1.470\n",
      "Prediction: -0.523, Actual: -1.470\n",
      "Prediction: -0.465, Actual: -1.200\n",
      "Prediction: -0.463, Actual: -0.930\n",
      "Prediction: -0.507, Actual: -0.840\n",
      "Prediction: -0.613, Actual: -0.860\n",
      "Prediction: -0.722, Actual: -0.970\n"
     ]
    }
   ],
   "source": [
    "# Print predictions vs actual values\n",
    "print(\"\\nPredictions vs Actual Values:\")\n",
    "for i in range(min(20, len(y_pred_orig))):  # Print first 20\n",
    "    print(f\"Prediction: {y_pred_orig[i][0]:.3f}, Actual: {y_test_orig[i][0]:.3f}\")"
   ]
  },
  {
   "cell_type": "code",
   "execution_count": null,
   "id": "19767e17-0db3-482e-a49f-008267302012",
   "metadata": {},
   "outputs": [],
   "source": []
  }
 ],
 "metadata": {
  "kernelspec": {
   "display_name": "Python 3 (ipykernel)",
   "language": "python",
   "name": "python3"
  },
  "language_info": {
   "codemirror_mode": {
    "name": "ipython",
    "version": 3
   },
   "file_extension": ".py",
   "mimetype": "text/x-python",
   "name": "python",
   "nbconvert_exporter": "python",
   "pygments_lexer": "ipython3",
   "version": "3.9.2"
  }
 },
 "nbformat": 4,
 "nbformat_minor": 5
}
